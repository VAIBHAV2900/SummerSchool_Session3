{
  "nbformat": 4,
  "nbformat_minor": 0,
  "metadata": {
    "accelerator": "GPU",
    "colab": {
      "name": "Assignment_3.ipynb",
      "provenance": [],
      "collapsed_sections": [
        "zKATiCgwnVwb",
        "iFfDFOKcnZDz",
        "V7dbN7b9Q80V"
      ],
      "authorship_tag": "ABX9TyOPLBzI0/tvujHb9To7IElg",
      "include_colab_link": true
    },
    "kernelspec": {
      "display_name": "Python 3",
      "name": "python3"
    },
    "language_info": {
      "name": "python"
    }
  },
  "cells": [
    {
      "cell_type": "markdown",
      "metadata": {
        "id": "view-in-github",
        "colab_type": "text"
      },
      "source": [
        "<a href=\"https://colab.research.google.com/github/VAIBHAV2900/SummerSchool_Session3/blob/main/Assignment_3.ipynb\" target=\"_parent\"><img src=\"https://colab.research.google.com/assets/colab-badge.svg\" alt=\"Open In Colab\"/></a>"
      ]
    },
    {
      "cell_type": "code",
      "metadata": {
        "colab": {
          "base_uri": "https://localhost:8080/"
        },
        "id": "JaB1mRRBZSoQ",
        "outputId": "ec4d1db2-95c9-4806-eb68-99b0ce7d8bc4"
      },
      "source": [
        "! git clone https://github.com/VAIBHAV2900/SummerSchool_Session3.git\n",
        "% cd SummerSchool_Session3/"
      ],
      "execution_count": 1,
      "outputs": [
        {
          "output_type": "stream",
          "text": [
            "fatal: destination path 'SummerSchool_Session3' already exists and is not an empty directory.\n",
            "/content/SummerSchool_Session3\n"
          ],
          "name": "stdout"
        }
      ]
    },
    {
      "cell_type": "markdown",
      "metadata": {
        "id": "zKATiCgwnVwb"
      },
      "source": [
        "### Unzipping the Dataset"
      ]
    },
    {
      "cell_type": "code",
      "metadata": {
        "id": "FN1Qpm_JmRdT"
      },
      "source": [
        "import zipfile\n",
        "with zipfile.ZipFile(\"Datasets.zip\", 'r') as zip_ref:\n",
        "    zip_ref.extractall(\"Titanic_Data/\")"
      ],
      "execution_count": 2,
      "outputs": []
    },
    {
      "cell_type": "markdown",
      "metadata": {
        "id": "iFfDFOKcnZDz"
      },
      "source": [
        "### Data preprocessing"
      ]
    },
    {
      "cell_type": "code",
      "metadata": {
        "id": "pfqgVtNbnbtO"
      },
      "source": [
        "import pandas as pd\n",
        "import numpy as np\n",
        "import matplotlib.pyplot as plt\n",
        "import seaborn as sns\n",
        "%matplotlib inline"
      ],
      "execution_count": 3,
      "outputs": []
    },
    {
      "cell_type": "code",
      "metadata": {
        "id": "DS1orM_Sne4s"
      },
      "source": [
        "train_data = pd.read_csv(\"/content/SummerSchool_Session3/Titanic_Data/train.csv\")\n",
        "test_data = pd.read_csv(\"/content/SummerSchool_Session3/Titanic_Data/test.csv\")"
      ],
      "execution_count": 4,
      "outputs": []
    },
    {
      "cell_type": "code",
      "metadata": {
        "colab": {
          "base_uri": "https://localhost:8080/"
        },
        "id": "vHjDqPa9nuYf",
        "outputId": "bfd1247a-d6d4-49c5-e538-f6112304b3e7"
      },
      "source": [
        "train_data.columns, test_data.columns"
      ],
      "execution_count": 5,
      "outputs": [
        {
          "output_type": "execute_result",
          "data": {
            "text/plain": [
              "(Index(['PassengerId', 'Survived', 'Pclass', 'Name', 'Sex', 'Age', 'SibSp',\n",
              "        'Parch', 'Ticket', 'Fare', 'Cabin', 'Embarked'],\n",
              "       dtype='object'),\n",
              " Index(['PassengerId', 'Pclass', 'Name', 'Sex', 'Age', 'SibSp', 'Parch',\n",
              "        'Ticket', 'Fare', 'Cabin', 'Embarked'],\n",
              "       dtype='object'))"
            ]
          },
          "metadata": {
            "tags": []
          },
          "execution_count": 5
        }
      ]
    },
    {
      "cell_type": "code",
      "metadata": {
        "colab": {
          "base_uri": "https://localhost:8080/",
          "height": 0
        },
        "id": "IAdEvIKPoVXd",
        "outputId": "9c8ee09f-91b5-4702-a078-4b4ee975f35f"
      },
      "source": [
        "train_data.head(5)"
      ],
      "execution_count": 6,
      "outputs": [
        {
          "output_type": "execute_result",
          "data": {
            "text/html": [
              "<div>\n",
              "<style scoped>\n",
              "    .dataframe tbody tr th:only-of-type {\n",
              "        vertical-align: middle;\n",
              "    }\n",
              "\n",
              "    .dataframe tbody tr th {\n",
              "        vertical-align: top;\n",
              "    }\n",
              "\n",
              "    .dataframe thead th {\n",
              "        text-align: right;\n",
              "    }\n",
              "</style>\n",
              "<table border=\"1\" class=\"dataframe\">\n",
              "  <thead>\n",
              "    <tr style=\"text-align: right;\">\n",
              "      <th></th>\n",
              "      <th>PassengerId</th>\n",
              "      <th>Survived</th>\n",
              "      <th>Pclass</th>\n",
              "      <th>Name</th>\n",
              "      <th>Sex</th>\n",
              "      <th>Age</th>\n",
              "      <th>SibSp</th>\n",
              "      <th>Parch</th>\n",
              "      <th>Ticket</th>\n",
              "      <th>Fare</th>\n",
              "      <th>Cabin</th>\n",
              "      <th>Embarked</th>\n",
              "    </tr>\n",
              "  </thead>\n",
              "  <tbody>\n",
              "    <tr>\n",
              "      <th>0</th>\n",
              "      <td>1</td>\n",
              "      <td>0</td>\n",
              "      <td>3</td>\n",
              "      <td>Braund, Mr. Owen Harris</td>\n",
              "      <td>male</td>\n",
              "      <td>22.0</td>\n",
              "      <td>1</td>\n",
              "      <td>0</td>\n",
              "      <td>A/5 21171</td>\n",
              "      <td>7.2500</td>\n",
              "      <td>NaN</td>\n",
              "      <td>S</td>\n",
              "    </tr>\n",
              "    <tr>\n",
              "      <th>1</th>\n",
              "      <td>2</td>\n",
              "      <td>1</td>\n",
              "      <td>1</td>\n",
              "      <td>Cumings, Mrs. John Bradley (Florence Briggs Th...</td>\n",
              "      <td>female</td>\n",
              "      <td>38.0</td>\n",
              "      <td>1</td>\n",
              "      <td>0</td>\n",
              "      <td>PC 17599</td>\n",
              "      <td>71.2833</td>\n",
              "      <td>C85</td>\n",
              "      <td>C</td>\n",
              "    </tr>\n",
              "    <tr>\n",
              "      <th>2</th>\n",
              "      <td>3</td>\n",
              "      <td>1</td>\n",
              "      <td>3</td>\n",
              "      <td>Heikkinen, Miss. Laina</td>\n",
              "      <td>female</td>\n",
              "      <td>26.0</td>\n",
              "      <td>0</td>\n",
              "      <td>0</td>\n",
              "      <td>STON/O2. 3101282</td>\n",
              "      <td>7.9250</td>\n",
              "      <td>NaN</td>\n",
              "      <td>S</td>\n",
              "    </tr>\n",
              "    <tr>\n",
              "      <th>3</th>\n",
              "      <td>4</td>\n",
              "      <td>1</td>\n",
              "      <td>1</td>\n",
              "      <td>Futrelle, Mrs. Jacques Heath (Lily May Peel)</td>\n",
              "      <td>female</td>\n",
              "      <td>35.0</td>\n",
              "      <td>1</td>\n",
              "      <td>0</td>\n",
              "      <td>113803</td>\n",
              "      <td>53.1000</td>\n",
              "      <td>C123</td>\n",
              "      <td>S</td>\n",
              "    </tr>\n",
              "    <tr>\n",
              "      <th>4</th>\n",
              "      <td>5</td>\n",
              "      <td>0</td>\n",
              "      <td>3</td>\n",
              "      <td>Allen, Mr. William Henry</td>\n",
              "      <td>male</td>\n",
              "      <td>35.0</td>\n",
              "      <td>0</td>\n",
              "      <td>0</td>\n",
              "      <td>373450</td>\n",
              "      <td>8.0500</td>\n",
              "      <td>NaN</td>\n",
              "      <td>S</td>\n",
              "    </tr>\n",
              "  </tbody>\n",
              "</table>\n",
              "</div>"
            ],
            "text/plain": [
              "   PassengerId  Survived  Pclass  ...     Fare Cabin  Embarked\n",
              "0            1         0       3  ...   7.2500   NaN         S\n",
              "1            2         1       1  ...  71.2833   C85         C\n",
              "2            3         1       3  ...   7.9250   NaN         S\n",
              "3            4         1       1  ...  53.1000  C123         S\n",
              "4            5         0       3  ...   8.0500   NaN         S\n",
              "\n",
              "[5 rows x 12 columns]"
            ]
          },
          "metadata": {
            "tags": []
          },
          "execution_count": 6
        }
      ]
    },
    {
      "cell_type": "code",
      "metadata": {
        "colab": {
          "base_uri": "https://localhost:8080/"
        },
        "id": "jNKrYuiuoZrp",
        "outputId": "d612dfad-db2c-4455-bce0-2c162a5443ee"
      },
      "source": [
        "train_data.index"
      ],
      "execution_count": 7,
      "outputs": [
        {
          "output_type": "execute_result",
          "data": {
            "text/plain": [
              "RangeIndex(start=0, stop=891, step=1)"
            ]
          },
          "metadata": {
            "tags": []
          },
          "execution_count": 7
        }
      ]
    },
    {
      "cell_type": "code",
      "metadata": {
        "colab": {
          "base_uri": "https://localhost:8080/"
        },
        "id": "YFuP8gLZor5r",
        "outputId": "9943ad4c-b96d-48cb-c759-52139d0422f7"
      },
      "source": [
        "train_data.info(), test_data.info()"
      ],
      "execution_count": 8,
      "outputs": [
        {
          "output_type": "stream",
          "text": [
            "<class 'pandas.core.frame.DataFrame'>\n",
            "RangeIndex: 891 entries, 0 to 890\n",
            "Data columns (total 12 columns):\n",
            " #   Column       Non-Null Count  Dtype  \n",
            "---  ------       --------------  -----  \n",
            " 0   PassengerId  891 non-null    int64  \n",
            " 1   Survived     891 non-null    int64  \n",
            " 2   Pclass       891 non-null    int64  \n",
            " 3   Name         891 non-null    object \n",
            " 4   Sex          891 non-null    object \n",
            " 5   Age          714 non-null    float64\n",
            " 6   SibSp        891 non-null    int64  \n",
            " 7   Parch        891 non-null    int64  \n",
            " 8   Ticket       891 non-null    object \n",
            " 9   Fare         891 non-null    float64\n",
            " 10  Cabin        204 non-null    object \n",
            " 11  Embarked     889 non-null    object \n",
            "dtypes: float64(2), int64(5), object(5)\n",
            "memory usage: 83.7+ KB\n",
            "<class 'pandas.core.frame.DataFrame'>\n",
            "RangeIndex: 418 entries, 0 to 417\n",
            "Data columns (total 11 columns):\n",
            " #   Column       Non-Null Count  Dtype  \n",
            "---  ------       --------------  -----  \n",
            " 0   PassengerId  418 non-null    int64  \n",
            " 1   Pclass       418 non-null    int64  \n",
            " 2   Name         418 non-null    object \n",
            " 3   Sex          418 non-null    object \n",
            " 4   Age          332 non-null    float64\n",
            " 5   SibSp        418 non-null    int64  \n",
            " 6   Parch        418 non-null    int64  \n",
            " 7   Ticket       418 non-null    object \n",
            " 8   Fare         417 non-null    float64\n",
            " 9   Cabin        91 non-null     object \n",
            " 10  Embarked     418 non-null    object \n",
            "dtypes: float64(2), int64(4), object(5)\n",
            "memory usage: 36.0+ KB\n"
          ],
          "name": "stdout"
        },
        {
          "output_type": "execute_result",
          "data": {
            "text/plain": [
              "(None, None)"
            ]
          },
          "metadata": {
            "tags": []
          },
          "execution_count": 8
        }
      ]
    },
    {
      "cell_type": "code",
      "metadata": {
        "colab": {
          "base_uri": "https://localhost:8080/",
          "height": 0
        },
        "id": "4BWxRKh1x9dy",
        "outputId": "caf1d002-a0f1-49bb-f785-d2e058928924"
      },
      "source": [
        "train_data.isnull().sum()\n",
        "sns.heatmap(train_data.isnull(), cbar = False).set_title(\"Missing values heatmap\")"
      ],
      "execution_count": 9,
      "outputs": [
        {
          "output_type": "execute_result",
          "data": {
            "text/plain": [
              "Text(0.5, 1.0, 'Missing values heatmap')"
            ]
          },
          "metadata": {
            "tags": []
          },
          "execution_count": 9
        },
        {
          "output_type": "display_data",
          "data": {
            "image/png": "[encoded data removed]",
            "text/plain": [
              "<Figure size 432x288 with 1 Axes>"
            ]
          },
          "metadata": {
            "tags": [],
            "needs_background": "light"
          }
        }
      ]
    },
    {
      "cell_type": "code",
      "metadata": {
        "id": "XCrxV_FW8A7r"
      },
      "source": [
        "# test_data.isnull().sum()\n",
        "# sns.heatmap(test_data.isnull(), cbar = False).set_title(\"Missing values heatmap\")"
      ],
      "execution_count": 10,
      "outputs": []
    },
    {
      "cell_type": "markdown",
      "metadata": {
        "id": "GyvRX9CJsCwW"
      },
      "source": [
        "#### Age Issue"
      ]
    },
    {
      "cell_type": "code",
      "metadata": {
        "colab": {
          "base_uri": "https://localhost:8080/",
          "height": 0
        },
        "id": "H4SDvmJXpb72",
        "outputId": "c991f4ea-f94f-453d-db28-afe345f9e8c4"
      },
      "source": [
        "data_age = train_data.groupby([\"Pclass\",\"SibSp\"])\n",
        "data_age = data_age.median()\n",
        "data_age"
      ],
      "execution_count": 11,
      "outputs": [
        {
          "output_type": "execute_result",
          "data": {
            "text/html": [
              "<div>\n",
              "<style scoped>\n",
              "    .dataframe tbody tr th:only-of-type {\n",
              "        vertical-align: middle;\n",
              "    }\n",
              "\n",
              "    .dataframe tbody tr th {\n",
              "        vertical-align: top;\n",
              "    }\n",
              "\n",
              "    .dataframe thead th {\n",
              "        text-align: right;\n",
              "    }\n",
              "</style>\n",
              "<table border=\"1\" class=\"dataframe\">\n",
              "  <thead>\n",
              "    <tr style=\"text-align: right;\">\n",
              "      <th></th>\n",
              "      <th></th>\n",
              "      <th>PassengerId</th>\n",
              "      <th>Survived</th>\n",
              "      <th>Age</th>\n",
              "      <th>Parch</th>\n",
              "      <th>Fare</th>\n",
              "    </tr>\n",
              "    <tr>\n",
              "      <th>Pclass</th>\n",
              "      <th>SibSp</th>\n",
              "      <th></th>\n",
              "      <th></th>\n",
              "      <th></th>\n",
              "      <th></th>\n",
              "      <th></th>\n",
              "    </tr>\n",
              "  </thead>\n",
              "  <tbody>\n",
              "    <tr>\n",
              "      <th rowspan=\"4\" valign=\"top\">1</th>\n",
              "      <th>0</th>\n",
              "      <td>476.0</td>\n",
              "      <td>1.0</td>\n",
              "      <td>37.0</td>\n",
              "      <td>0.0</td>\n",
              "      <td>39.6000</td>\n",
              "    </tr>\n",
              "    <tr>\n",
              "      <th>1</th>\n",
              "      <td>485.0</td>\n",
              "      <td>1.0</td>\n",
              "      <td>38.0</td>\n",
              "      <td>0.0</td>\n",
              "      <td>79.2000</td>\n",
              "    </tr>\n",
              "    <tr>\n",
              "      <th>2</th>\n",
              "      <td>572.0</td>\n",
              "      <td>1.0</td>\n",
              "      <td>44.0</td>\n",
              "      <td>0.0</td>\n",
              "      <td>133.6500</td>\n",
              "    </tr>\n",
              "    <tr>\n",
              "      <th>3</th>\n",
              "      <td>89.0</td>\n",
              "      <td>1.0</td>\n",
              "      <td>23.0</td>\n",
              "      <td>2.0</td>\n",
              "      <td>263.0000</td>\n",
              "    </tr>\n",
              "    <tr>\n",
              "      <th rowspan=\"4\" valign=\"top\">2</th>\n",
              "      <th>0</th>\n",
              "      <td>407.0</td>\n",
              "      <td>0.0</td>\n",
              "      <td>30.0</td>\n",
              "      <td>0.0</td>\n",
              "      <td>13.0000</td>\n",
              "    </tr>\n",
              "    <tr>\n",
              "      <th>1</th>\n",
              "      <td>451.0</td>\n",
              "      <td>1.0</td>\n",
              "      <td>29.0</td>\n",
              "      <td>1.0</td>\n",
              "      <td>26.0000</td>\n",
              "    </tr>\n",
              "    <tr>\n",
              "      <th>2</th>\n",
              "      <td>565.5</td>\n",
              "      <td>0.5</td>\n",
              "      <td>23.5</td>\n",
              "      <td>1.0</td>\n",
              "      <td>39.0000</td>\n",
              "    </tr>\n",
              "    <tr>\n",
              "      <th>3</th>\n",
              "      <td>727.0</td>\n",
              "      <td>1.0</td>\n",
              "      <td>30.0</td>\n",
              "      <td>0.0</td>\n",
              "      <td>21.0000</td>\n",
              "    </tr>\n",
              "    <tr>\n",
              "      <th rowspan=\"7\" valign=\"top\">3</th>\n",
              "      <th>0</th>\n",
              "      <td>472.0</td>\n",
              "      <td>0.0</td>\n",
              "      <td>26.0</td>\n",
              "      <td>0.0</td>\n",
              "      <td>7.8958</td>\n",
              "    </tr>\n",
              "    <tr>\n",
              "      <th>1</th>\n",
              "      <td>372.0</td>\n",
              "      <td>0.0</td>\n",
              "      <td>25.0</td>\n",
              "      <td>0.0</td>\n",
              "      <td>15.5500</td>\n",
              "    </tr>\n",
              "    <tr>\n",
              "      <th>2</th>\n",
              "      <td>334.0</td>\n",
              "      <td>0.0</td>\n",
              "      <td>19.5</td>\n",
              "      <td>0.0</td>\n",
              "      <td>19.2583</td>\n",
              "    </tr>\n",
              "    <tr>\n",
              "      <th>3</th>\n",
              "      <td>302.5</td>\n",
              "      <td>0.0</td>\n",
              "      <td>6.0</td>\n",
              "      <td>1.0</td>\n",
              "      <td>25.4667</td>\n",
              "    </tr>\n",
              "    <tr>\n",
              "      <th>4</th>\n",
              "      <td>264.5</td>\n",
              "      <td>0.0</td>\n",
              "      <td>6.5</td>\n",
              "      <td>1.5</td>\n",
              "      <td>31.2750</td>\n",
              "    </tr>\n",
              "    <tr>\n",
              "      <th>5</th>\n",
              "      <td>387.0</td>\n",
              "      <td>0.0</td>\n",
              "      <td>11.0</td>\n",
              "      <td>2.0</td>\n",
              "      <td>46.9000</td>\n",
              "    </tr>\n",
              "    <tr>\n",
              "      <th>8</th>\n",
              "      <td>325.0</td>\n",
              "      <td>0.0</td>\n",
              "      <td>NaN</td>\n",
              "      <td>2.0</td>\n",
              "      <td>69.5500</td>\n",
              "    </tr>\n",
              "  </tbody>\n",
              "</table>\n",
              "</div>"
            ],
            "text/plain": [
              "              PassengerId  Survived   Age  Parch      Fare\n",
              "Pclass SibSp                                              \n",
              "1      0            476.0       1.0  37.0    0.0   39.6000\n",
              "       1            485.0       1.0  38.0    0.0   79.2000\n",
              "       2            572.0       1.0  44.0    0.0  133.6500\n",
              "       3             89.0       1.0  23.0    2.0  263.0000\n",
              "2      0            407.0       0.0  30.0    0.0   13.0000\n",
              "       1            451.0       1.0  29.0    1.0   26.0000\n",
              "       2            565.5       0.5  23.5    1.0   39.0000\n",
              "       3            727.0       1.0  30.0    0.0   21.0000\n",
              "3      0            472.0       0.0  26.0    0.0    7.8958\n",
              "       1            372.0       0.0  25.0    0.0   15.5500\n",
              "       2            334.0       0.0  19.5    0.0   19.2583\n",
              "       3            302.5       0.0   6.0    1.0   25.4667\n",
              "       4            264.5       0.0   6.5    1.5   31.2750\n",
              "       5            387.0       0.0  11.0    2.0   46.9000\n",
              "       8            325.0       0.0   NaN    2.0   69.5500"
            ]
          },
          "metadata": {
            "tags": []
          },
          "execution_count": 11
        }
      ]
    },
    {
      "cell_type": "code",
      "metadata": {
        "id": "IWziKz5Bso_Y"
      },
      "source": [
        "def fill_age(dataset,dataset_med):\n",
        "    for x in range(len(dataset)):\n",
        "        if dataset[\"Pclass\"][x]==1:\n",
        "            if dataset[\"SibSp\"][x]==0:\n",
        "                return dataset_med.loc[1,0][\"Age\"]\n",
        "            elif dataset[\"SibSp\"][x]==1:\n",
        "                return dataset_med.loc[1,1][\"Age\"]\n",
        "            elif dataset[\"SibSp\"][x]==2:\n",
        "                return dataset_med.loc[1,2][\"Age\"]\n",
        "            elif dataset[\"SibSp\"][x]==3:\n",
        "                return dataset_med.loc[1,3][\"Age\"]\n",
        "        elif dataset[\"Pclass\"][x]==2:\n",
        "            if dataset[\"SibSp\"][x]==0:\n",
        "                return dataset_med.loc[2,0][\"Age\"]\n",
        "            elif dataset[\"SibSp\"][x]==1:\n",
        "                return dataset_med.loc[2,1][\"Age\"]\n",
        "            elif dataset[\"SibSp\"][x]==2:\n",
        "                return dataset_med.loc[2,2][\"Age\"]\n",
        "            elif dataset[\"SibSp\"][x]==3:\n",
        "                return dataset_med.loc[2,3][\"Age\"]\n",
        "        elif dataset[\"Pclass\"][x]==3:\n",
        "            if dataset[\"SibSp\"][x]==0:\n",
        "                return dataset_med.loc[3,0][\"Age\"]\n",
        "            elif dataset[\"SibSp\"][x]==1:\n",
        "                return dataset_med.loc[3,1][\"Age\"]\n",
        "            elif dataset[\"SibSp\"][x]==2:\n",
        "                return dataset_med.loc[3,2][\"Age\"]\n",
        "            elif dataset[\"SibSp\"][x]==3:\n",
        "                return dataset_med.loc[3,3][\"Age\"]\n",
        "            elif dataset[\"SibSp\"][x]==4:\n",
        "                return dataset_med.loc[3,4][\"Age\"]\n",
        "            elif dataset[\"SibSp\"][x]==5:\n",
        "                return dataset_med.loc[3,5][\"Age\"]\n",
        "            elif dataset[\"SibSp\"][x]==8:\n",
        "                return dataset_med.loc[3][\"Age\"].median()"
      ],
      "execution_count": 12,
      "outputs": []
    },
    {
      "cell_type": "code",
      "metadata": {
        "id": "17hvVR-muQOJ"
      },
      "source": [
        "train_data[\"Age\"]=train_data[\"Age\"].fillna(fill_age(train_data,data_age))"
      ],
      "execution_count": 13,
      "outputs": []
    },
    {
      "cell_type": "code",
      "metadata": {
        "id": "eWGWgu398Y1L"
      },
      "source": [
        "## AGE values issue in Test data\n",
        "test_age = test_data.groupby([\"Pclass\",\"SibSp\"])\n",
        "test_age = test_age.median()\n",
        "test_age\n",
        "test_data[\"Age\"]=test_data[\"Age\"].fillna(fill_age(test_data,test_age))"
      ],
      "execution_count": 14,
      "outputs": []
    },
    {
      "cell_type": "markdown",
      "metadata": {
        "id": "z-y_cM4tuuiF"
      },
      "source": [
        "#### Cabin Issue"
      ]
    },
    {
      "cell_type": "code",
      "metadata": {
        "colab": {
          "base_uri": "https://localhost:8080/"
        },
        "id": "gwYW7S1XuhKf",
        "outputId": "c2b67981-1b77-4413-d6a8-6690e702d128"
      },
      "source": [
        "train_data.Cabin.unique()"
      ],
      "execution_count": 15,
      "outputs": [
        {
          "output_type": "execute_result",
          "data": {
            "text/plain": [
              "array([nan, 'C85', 'C123', 'E46', 'G6', 'C103', 'D56', 'A6',\n",
              "       'C23 C25 C27', 'B78', 'D33', 'B30', 'C52', 'B28', 'C83', 'F33',\n",
              "       'F G73', 'E31', 'A5', 'D10 D12', 'D26', 'C110', 'B58 B60', 'E101',\n",
              "       'F E69', 'D47', 'B86', 'F2', 'C2', 'E33', 'B19', 'A7', 'C49', 'F4',\n",
              "       'A32', 'B4', 'B80', 'A31', 'D36', 'D15', 'C93', 'C78', 'D35',\n",
              "       'C87', 'B77', 'E67', 'B94', 'C125', 'C99', 'C118', 'D7', 'A19',\n",
              "       'B49', 'D', 'C22 C26', 'C106', 'C65', 'E36', 'C54',\n",
              "       'B57 B59 B63 B66', 'C7', 'E34', 'C32', 'B18', 'C124', 'C91', 'E40',\n",
              "       'T', 'C128', 'D37', 'B35', 'E50', 'C82', 'B96 B98', 'E10', 'E44',\n",
              "       'A34', 'C104', 'C111', 'C92', 'E38', 'D21', 'E12', 'E63', 'A14',\n",
              "       'B37', 'C30', 'D20', 'B79', 'E25', 'D46', 'B73', 'C95', 'B38',\n",
              "       'B39', 'B22', 'C86', 'C70', 'A16', 'C101', 'C68', 'A10', 'E68',\n",
              "       'B41', 'A20', 'D19', 'D50', 'D9', 'A23', 'B50', 'A26', 'D48',\n",
              "       'E58', 'C126', 'B71', 'B51 B53 B55', 'D49', 'B5', 'B20', 'F G63',\n",
              "       'C62 C64', 'E24', 'C90', 'C45', 'E8', 'B101', 'D45', 'C46', 'D30',\n",
              "       'E121', 'D11', 'E77', 'F38', 'B3', 'D6', 'B82 B84', 'D17', 'A36',\n",
              "       'B102', 'B69', 'E49', 'C47', 'D28', 'E17', 'A24', 'C50', 'B42',\n",
              "       'C148'], dtype=object)"
            ]
          },
          "metadata": {
            "tags": []
          },
          "execution_count": 15
        }
      ]
    },
    {
      "cell_type": "code",
      "metadata": {
        "id": "deLcb3Amu3Qu"
      },
      "source": [
        "train_data[\"Cabin\"]=train_data[\"Cabin\"].fillna(\"U\")\n",
        "train_data[\"Cabin\"]=train_data[\"Cabin\"].map(lambda x: x[0])"
      ],
      "execution_count": 16,
      "outputs": []
    },
    {
      "cell_type": "code",
      "metadata": {
        "id": "iSl348I19Tty"
      },
      "source": [
        "## Cabin Values issue Test Data\n",
        "test_data.Cabin.unique()\n",
        "test_data[\"Cabin\"]=test_data[\"Cabin\"].fillna(\"U\")\n",
        "test_data[\"Cabin\"]=test_data[\"Cabin\"].map(lambda x: x[0])"
      ],
      "execution_count": 17,
      "outputs": []
    },
    {
      "cell_type": "code",
      "metadata": {
        "colab": {
          "base_uri": "https://localhost:8080/"
        },
        "id": "nNTlLfzPvrQq",
        "outputId": "aa39d3c9-9d58-473a-dc12-c6f46064196d"
      },
      "source": [
        "train_data.columns"
      ],
      "execution_count": 18,
      "outputs": [
        {
          "output_type": "execute_result",
          "data": {
            "text/plain": [
              "Index(['PassengerId', 'Survived', 'Pclass', 'Name', 'Sex', 'Age', 'SibSp',\n",
              "       'Parch', 'Ticket', 'Fare', 'Cabin', 'Embarked'],\n",
              "      dtype='object')"
            ]
          },
          "metadata": {
            "tags": []
          },
          "execution_count": 18
        }
      ]
    },
    {
      "cell_type": "markdown",
      "metadata": {
        "id": "y3beiVoAzerM"
      },
      "source": [
        "#### Embarked Issue\n",
        "Since ‘Embarked’ only had two missing values and the largest number of commuters embarked from Southampton, the probability of boarding from Southampton is higher. So, we fill the missing values with Southampton. However, instead of manually putting in Southampton, we would find the mode of the Embarked column and substitute missing values with it.\n",
        "The mode is the most frequently occurring element in a series."
      ]
    },
    {
      "cell_type": "code",
      "metadata": {
        "id": "1Eu5GJWlzkEV"
      },
      "source": [
        "train_data.Embarked.fillna(train_data.Embarked.mode()[0], inplace = True)"
      ],
      "execution_count": 19,
      "outputs": []
    },
    {
      "cell_type": "code",
      "metadata": {
        "id": "qZlFvb2m99X0"
      },
      "source": [
        "test_data.Embarked.fillna(test_data.Embarked.mode()[0], inplace = True)"
      ],
      "execution_count": 20,
      "outputs": []
    },
    {
      "cell_type": "code",
      "metadata": {
        "colab": {
          "base_uri": "https://localhost:8080/"
        },
        "id": "SUVFpDBez48D",
        "outputId": "081edee0-3eb6-4abc-9bf5-ef353188a2c2"
      },
      "source": [
        "train_data.info()"
      ],
      "execution_count": 21,
      "outputs": [
        {
          "output_type": "stream",
          "text": [
            "<class 'pandas.core.frame.DataFrame'>\n",
            "RangeIndex: 891 entries, 0 to 890\n",
            "Data columns (total 12 columns):\n",
            " #   Column       Non-Null Count  Dtype  \n",
            "---  ------       --------------  -----  \n",
            " 0   PassengerId  891 non-null    int64  \n",
            " 1   Survived     891 non-null    int64  \n",
            " 2   Pclass       891 non-null    int64  \n",
            " 3   Name         891 non-null    object \n",
            " 4   Sex          891 non-null    object \n",
            " 5   Age          891 non-null    float64\n",
            " 6   SibSp        891 non-null    int64  \n",
            " 7   Parch        891 non-null    int64  \n",
            " 8   Ticket       891 non-null    object \n",
            " 9   Fare         891 non-null    float64\n",
            " 10  Cabin        891 non-null    object \n",
            " 11  Embarked     891 non-null    object \n",
            "dtypes: float64(2), int64(5), object(5)\n",
            "memory usage: 83.7+ KB\n"
          ],
          "name": "stdout"
        }
      ]
    },
    {
      "cell_type": "code",
      "metadata": {
        "colab": {
          "base_uri": "https://localhost:8080/"
        },
        "id": "rFYtyFX7_IvO",
        "outputId": "5803e820-bbec-45a0-f6ff-ec41d2a892d6"
      },
      "source": [
        "train_data.Survived = train_data.Survived*100\n",
        "train_data.Survived"
      ],
      "execution_count": 22,
      "outputs": [
        {
          "output_type": "execute_result",
          "data": {
            "text/plain": [
              "0        0\n",
              "1      100\n",
              "2      100\n",
              "3      100\n",
              "4        0\n",
              "      ... \n",
              "886      0\n",
              "887    100\n",
              "888      0\n",
              "889    100\n",
              "890      0\n",
              "Name: Survived, Length: 891, dtype: int64"
            ]
          },
          "metadata": {
            "tags": []
          },
          "execution_count": 22
        }
      ]
    },
    {
      "cell_type": "markdown",
      "metadata": {
        "id": "V7dbN7b9Q80V"
      },
      "source": [
        "#### Fare missing value in test data"
      ]
    },
    {
      "cell_type": "code",
      "metadata": {
        "id": "tnAT2DUoRDGM"
      },
      "source": [
        "test_data.Fare.fillna(test_data.Fare.mode()[0], inplace = True)"
      ],
      "execution_count": 23,
      "outputs": []
    },
    {
      "cell_type": "markdown",
      "metadata": {
        "id": "0hzh7EvpHb5l"
      },
      "source": [
        "# Visualization"
      ]
    },
    {
      "cell_type": "code",
      "metadata": {
        "id": "gdd1Ch8sHfVX"
      },
      "source": [
        "def age_band(num):\n",
        "    for i in range(1, 100):\n",
        "        if num < 10*i :  return f'{(i-1) * 10} ~ {i*10}'\n",
        "\n",
        "train_data['age_band'] = train_data['Age'].apply(age_band)"
      ],
      "execution_count": 24,
      "outputs": []
    },
    {
      "cell_type": "code",
      "metadata": {
        "id": "-p61tlKYUS_E",
        "colab": {
          "base_uri": "https://localhost:8080/"
        },
        "outputId": "fc946641-b827-43a8-a9fe-efab09f5551c"
      },
      "source": [
        "mkdir Images"
      ],
      "execution_count": 25,
      "outputs": [
        {
          "output_type": "stream",
          "text": [
            "mkdir: cannot create directory ‘Images’: File exists\n"
          ],
          "name": "stdout"
        }
      ]
    },
    {
      "cell_type": "code",
      "metadata": {
        "colab": {
          "base_uri": "https://localhost:8080/",
          "height": 1000
        },
        "id": "9aOxphTS6cTu",
        "outputId": "be9c5b32-90cc-4157-e46b-9a642d0f0ffa"
      },
      "source": [
        "plt.figure(figsize=(10,6))\n",
        "plt.title('Class Survival Percentage')\n",
        "sns.barplot(\n",
        "            y='Survived', \n",
        "            x='Pclass', \n",
        "            hue='Sex',\n",
        "            data=train_data);\n",
        "plt.savefig(\"Images/Class_Survival.png\")\n",
        "\n",
        "\n",
        "plt.figure(figsize=(10,6))\n",
        "plt.title('Cabin Survival Percentage')\n",
        "sns.barplot(\n",
        "            x='Cabin', \n",
        "            y='Survived', \n",
        "            hue='Sex',\n",
        "            data=train_data);\n",
        "plt.savefig(\"Images/Cabin_Survival.png\")\n",
        "\n",
        "\n",
        "plt.figure(figsize=(10,6))\n",
        "plt.title('Age Survival Percentage')\n",
        "sns.barplot(\n",
        "            x='age_band', \n",
        "            y='Survived', \n",
        "            hue='Sex',\n",
        "            data=train_data);\n",
        "plt.savefig(\"Images/Age_Survival.png\")\n",
        "\n",
        "\n"
      ],
      "execution_count": 26,
      "outputs": [
        {
          "output_type": "display_data",
          "data": {
            "image/png": "[encoded data removed]",
            "text/plain": [
              "<Figure size 720x432 with 1 Axes>"
            ]
          },
          "metadata": {
            "tags": [],
            "needs_background": "light"
          }
        },
        {
          "output_type": "display_data",
          "data": {
            "image/png": "[encoded data removed]",
            "text/plain": [
              "<Figure size 720x432 with 1 Axes>"
            ]
          },
          "metadata": {
            "tags": [],
            "needs_background": "light"
          }
        },
        {
          "output_type": "display_data",
          "data": {
            "image/png": "[encoded data removed]",
            "text/plain": [
              "<Figure size 720x432 with 1 Axes>"
            ]
          },
          "metadata": {
            "tags": [],
            "needs_background": "light"
          }
        }
      ]
    },
    {
      "cell_type": "code",
      "metadata": {
        "id": "7Zd-hxz0uk8a"
      },
      "source": [
        "from zipfile import ZipFile\n",
        "with ZipFile('Visualization_Images.zip', 'w') as zipObj2:\n",
        "   # Add multiple files to the zip\n",
        "   zipObj2.write('Images/Class_Survival.png')\n",
        "   zipObj2.write('Images/Cabin_Survival.png')\n",
        "   zipObj2.write('Images/Age_Survival.png')"
      ],
      "execution_count": 27,
      "outputs": []
    },
    {
      "cell_type": "code",
      "metadata": {
        "id": "pr1ZHn7MCOJr"
      },
      "source": [
        "# plt.title('Family Survival Percentage')\n",
        "# plt.xlabel('Family')\n",
        "# sns.barplot(\n",
        "#             x=train_data.SibSp + train_data.Parch, \n",
        "#             y='Survived', \n",
        "#             # hue='Sex',\n",
        "#             data=train_data);\n",
        "# # plt.savefig(\"Family_Survival.png\")"
      ],
      "execution_count": 28,
      "outputs": []
    },
    {
      "cell_type": "code",
      "metadata": {
        "id": "fQL-iiLL_l8-"
      },
      "source": [
        "# plt.title('Age distribution')\n",
        "# plt.hist(train_data.Age, bins=20);"
      ],
      "execution_count": 29,
      "outputs": []
    },
    {
      "cell_type": "code",
      "metadata": {
        "id": "9i960P3WEks_",
        "colab": {
          "base_uri": "https://localhost:8080/",
          "height": 337
        },
        "outputId": "697dcf58-728e-4d1c-a84d-44e8cf5cb7d8"
      },
      "source": [
        "sns.heatmap(train_data.corr(),annot=True,linewidth=0.5)"
      ],
      "execution_count": 30,
      "outputs": [
        {
          "output_type": "execute_result",
          "data": {
            "text/plain": [
              "<matplotlib.axes._subplots.AxesSubplot at 0x7f29e9216ad0>"
            ]
          },
          "metadata": {
            "tags": []
          },
          "execution_count": 30
        },
        {
          "output_type": "display_data",
          "data": {
            "image/png": "[encoded data removed]",
            "text/plain": [
              "<Figure size 432x288 with 2 Axes>"
            ]
          },
          "metadata": {
            "tags": [],
            "needs_background": "light"
          }
        }
      ]
    },
    {
      "cell_type": "code",
      "metadata": {
        "id": "hk1Tjr5RGWIN"
      },
      "source": [
        "#####################  Saving Visualization images pending"
      ],
      "execution_count": 31,
      "outputs": []
    },
    {
      "cell_type": "code",
      "metadata": {
        "id": "buSx02ltodrO"
      },
      "source": [
        "# for i in range(8):\n",
        "#   plt.figure()\n",
        "#   sns.boxplot(x= y_train, y= x_train[x_train.columns[i]])\n",
        "#   plt.show"
      ],
      "execution_count": 32,
      "outputs": []
    },
    {
      "cell_type": "markdown",
      "metadata": {
        "id": "anzQjRI0JoYB"
      },
      "source": [
        "# Training"
      ]
    },
    {
      "cell_type": "code",
      "metadata": {
        "colab": {
          "base_uri": "https://localhost:8080/"
        },
        "id": "qitFwmS-BXIP",
        "outputId": "5092883b-b6ef-4ea7-f1c8-cdd3de549eb0"
      },
      "source": [
        "train_data.info()"
      ],
      "execution_count": 33,
      "outputs": [
        {
          "output_type": "stream",
          "text": [
            "<class 'pandas.core.frame.DataFrame'>\n",
            "RangeIndex: 891 entries, 0 to 890\n",
            "Data columns (total 13 columns):\n",
            " #   Column       Non-Null Count  Dtype  \n",
            "---  ------       --------------  -----  \n",
            " 0   PassengerId  891 non-null    int64  \n",
            " 1   Survived     891 non-null    int64  \n",
            " 2   Pclass       891 non-null    int64  \n",
            " 3   Name         891 non-null    object \n",
            " 4   Sex          891 non-null    object \n",
            " 5   Age          891 non-null    float64\n",
            " 6   SibSp        891 non-null    int64  \n",
            " 7   Parch        891 non-null    int64  \n",
            " 8   Ticket       891 non-null    object \n",
            " 9   Fare         891 non-null    float64\n",
            " 10  Cabin        891 non-null    object \n",
            " 11  Embarked     891 non-null    object \n",
            " 12  age_band     891 non-null    object \n",
            "dtypes: float64(2), int64(5), object(6)\n",
            "memory usage: 90.6+ KB\n"
          ],
          "name": "stdout"
        }
      ]
    },
    {
      "cell_type": "code",
      "metadata": {
        "id": "FfGvo8eIEP_J"
      },
      "source": [
        "## Mapping non float values to float\n",
        "\n",
        "gender_map = {'male' : 0, 'female' : 1}\n",
        "cabin_map = { 'U':0, 'A':1, 'B':2, 'C':3, 'D':4, 'E':5, 'F':6, 'G':7, 'T':8}\n",
        "embarked_map = {'S' : 0, 'C' : 1, 'Q':2}\n",
        "train_data['Sex'] = train_data['Sex'].map(gender_map)\n",
        "train_data['Cabin'] = train_data['Cabin'].map(cabin_map)\n",
        "train_data['Embarked'] = train_data['Embarked'].map(embarked_map)"
      ],
      "execution_count": 34,
      "outputs": []
    },
    {
      "cell_type": "code",
      "metadata": {
        "id": "3LmlIrBWB0ie"
      },
      "source": [
        "## drop unecessary columns\n",
        "\n",
        "x_train = train_data.drop(columns= ['Name','Ticket','age_band','Survived','PassengerId']).to_numpy()\n",
        "y_train = (train_data.Survived/100).to_numpy()\n"
      ],
      "execution_count": 35,
      "outputs": []
    },
    {
      "cell_type": "code",
      "metadata": {
        "colab": {
          "base_uri": "https://localhost:8080/"
        },
        "id": "n7SfLvbe3W1e",
        "outputId": "95dadb50-cad6-40ba-b051-747f57a21c81"
      },
      "source": [
        "len(x_train),len(y_train)"
      ],
      "execution_count": 36,
      "outputs": [
        {
          "output_type": "execute_result",
          "data": {
            "text/plain": [
              "(891, 891)"
            ]
          },
          "metadata": {
            "tags": []
          },
          "execution_count": 36
        }
      ]
    },
    {
      "cell_type": "code",
      "metadata": {
        "id": "DBqUb2HvoeYM"
      },
      "source": [
        "# Splitting training data into train and val data\n",
        "from sklearn.svm import SVC\n",
        "from sklearn.model_selection import train_test_split\n",
        "X_TRAIN,X_VAL,Y_TRAIN,Y_VAL = train_test_split(x_train,y_train,test_size=0.1,random_state = 32)"
      ],
      "execution_count": 37,
      "outputs": []
    },
    {
      "cell_type": "code",
      "metadata": {
        "id": "mXERCskH3XXb",
        "colab": {
          "base_uri": "https://localhost:8080/"
        },
        "outputId": "a3e0ad82-3461-4646-dd24-a3f7d14b7cc3"
      },
      "source": [
        "# Initialize base_model SVM classifier\n",
        "# rng = np.random.RandomState(0)\n",
        "base_model = SVC()\n",
        "base_model.fit(X_TRAIN,Y_TRAIN)\n",
        "\n",
        "print(\"Acc on training data:\", base_model.score(X_TRAIN,Y_TRAIN))\n",
        "print(\"Acc on val data:\", base_model.score(X_VAL,Y_VAL))"
      ],
      "execution_count": 38,
      "outputs": [
        {
          "output_type": "stream",
          "text": [
            "Acc on training data: 0.6766541822721598\n",
            "Acc on val data: 0.7333333333333333\n"
          ],
          "name": "stdout"
        }
      ]
    },
    {
      "cell_type": "markdown",
      "metadata": {
        "id": "sn-Nqx8KPKzn"
      },
      "source": [
        "##### Grid Search application"
      ]
    },
    {
      "cell_type": "code",
      "metadata": {
        "id": "-MNoVdacZpOV"
      },
      "source": [
        "from sklearn.model_selection import GridSearchCV"
      ],
      "execution_count": 39,
      "outputs": []
    },
    {
      "cell_type": "code",
      "metadata": {
        "id": "ID08R-1sXhoc"
      },
      "source": [
        "param_grid_linear = [\n",
        "  {'C': [0.01,0.1,1, 10, 100], 'kernel': ['linear']},\n",
        "  # {'C': [0.01,0.1,1, 10, 100, 1000,10000], 'gamma': [10,1,0.1,0.01, 0.001,0.0001], 'kernel': ['rbf']},\n",
        " ]"
      ],
      "execution_count": 40,
      "outputs": []
    },
    {
      "cell_type": "code",
      "metadata": {
        "colab": {
          "base_uri": "https://localhost:8080/"
        },
        "id": "7mlmNXjfbNuv",
        "outputId": "e2d42acd-a6ea-4793-865f-8d7c23d2ce68"
      },
      "source": [
        "gs_linear = GridSearchCV(estimator=base_model, \n",
        "                         param_grid=param_grid_linear,\n",
        "                         verbose = 3,\n",
        "                         error_score=0)\n",
        "\n",
        "gs_linear.fit(X_TRAIN,Y_TRAIN)\n",
        "print(\"Acc on training data:\", gs_linear.score(X_TRAIN,Y_TRAIN))\n",
        "print(\"Acc on val data:\", gs_linear.score(X_VAL,Y_VAL))"
      ],
      "execution_count": 41,
      "outputs": [
        {
          "output_type": "stream",
          "text": [
            "Fitting 5 folds for each of 5 candidates, totalling 25 fits\n",
            "[CV] C=0.01, kernel=linear ...........................................\n",
            "[CV] ............... C=0.01, kernel=linear, score=0.745, total=   0.0s\n",
            "[CV] C=0.01, kernel=linear ...........................................\n",
            "[CV] ............... C=0.01, kernel=linear, score=0.688, total=   0.0s\n",
            "[CV] C=0.01, kernel=linear ...........................................\n",
            "[CV] ............... C=0.01, kernel=linear, score=0.738, total=   0.0s\n",
            "[CV] C=0.01, kernel=linear ...........................................\n",
            "[CV] ............... C=0.01, kernel=linear, score=0.731, total=   0.0s\n",
            "[CV] C=0.01, kernel=linear ...........................................\n",
            "[CV] ............... C=0.01, kernel=linear, score=0.750, total=   0.0s\n",
            "[CV] C=0.1, kernel=linear ............................................\n",
            "[CV] ................ C=0.1, kernel=linear, score=0.752, total=   0.1s\n",
            "[CV] C=0.1, kernel=linear ............................................\n"
          ],
          "name": "stdout"
        },
        {
          "output_type": "stream",
          "text": [
            "[Parallel(n_jobs=1)]: Using backend SequentialBackend with 1 concurrent workers.\n",
            "[Parallel(n_jobs=1)]: Done   1 out of   1 | elapsed:    0.0s remaining:    0.0s\n",
            "[Parallel(n_jobs=1)]: Done   2 out of   2 | elapsed:    0.0s remaining:    0.0s\n"
          ],
          "name": "stderr"
        },
        {
          "output_type": "stream",
          "text": [
            "[CV] ................ C=0.1, kernel=linear, score=0.781, total=   0.1s\n",
            "[CV] C=0.1, kernel=linear ............................................\n",
            "[CV] ................ C=0.1, kernel=linear, score=0.800, total=   0.1s\n",
            "[CV] C=0.1, kernel=linear ............................................\n",
            "[CV] ................ C=0.1, kernel=linear, score=0.750, total=   0.1s\n",
            "[CV] C=0.1, kernel=linear ............................................\n",
            "[CV] ................ C=0.1, kernel=linear, score=0.781, total=   0.1s\n",
            "[CV] C=1, kernel=linear ..............................................\n",
            "[CV] .................. C=1, kernel=linear, score=0.752, total=   0.7s\n",
            "[CV] C=1, kernel=linear ..............................................\n",
            "[CV] .................. C=1, kernel=linear, score=0.794, total=   0.3s\n",
            "[CV] C=1, kernel=linear ..............................................\n",
            "[CV] .................. C=1, kernel=linear, score=0.800, total=   1.1s\n",
            "[CV] C=1, kernel=linear ..............................................\n",
            "[CV] .................. C=1, kernel=linear, score=0.750, total=   8.5s\n",
            "[CV] C=1, kernel=linear ..............................................\n",
            "[CV] .................. C=1, kernel=linear, score=0.781, total=   3.2s\n",
            "[CV] C=10, kernel=linear .............................................\n",
            "[CV] ................. C=10, kernel=linear, score=0.752, total=   6.8s\n",
            "[CV] C=10, kernel=linear .............................................\n",
            "[CV] ................. C=10, kernel=linear, score=0.787, total=   1.6s\n",
            "[CV] C=10, kernel=linear .............................................\n",
            "[CV] ................. C=10, kernel=linear, score=0.800, total=   7.2s\n",
            "[CV] C=10, kernel=linear .............................................\n",
            "[CV] ................. C=10, kernel=linear, score=0.750, total=  12.4s\n",
            "[CV] C=10, kernel=linear .............................................\n",
            "[CV] ................. C=10, kernel=linear, score=0.781, total=  11.7s\n",
            "[CV] C=100, kernel=linear ............................................\n",
            "[CV] ................ C=100, kernel=linear, score=0.739, total=  40.3s\n",
            "[CV] C=100, kernel=linear ............................................\n",
            "[CV] ................ C=100, kernel=linear, score=0.794, total=  41.7s\n",
            "[CV] C=100, kernel=linear ............................................\n",
            "[CV] ................ C=100, kernel=linear, score=0.806, total=  53.2s\n",
            "[CV] C=100, kernel=linear ............................................\n",
            "[CV] ................ C=100, kernel=linear, score=0.756, total= 1.1min\n",
            "[CV] C=100, kernel=linear ............................................\n",
            "[CV] ................ C=100, kernel=linear, score=0.794, total=  31.1s\n"
          ],
          "name": "stdout"
        },
        {
          "output_type": "stream",
          "text": [
            "[Parallel(n_jobs=1)]: Done  25 out of  25 | elapsed:  4.8min finished\n"
          ],
          "name": "stderr"
        },
        {
          "output_type": "stream",
          "text": [
            "Acc on training data: 0.784019975031211\n",
            "Acc on val data: 0.8333333333333334\n"
          ],
          "name": "stdout"
        }
      ]
    },
    {
      "cell_type": "code",
      "metadata": {
        "colab": {
          "base_uri": "https://localhost:8080/"
        },
        "id": "NFSf85lAgkCP",
        "outputId": "a8f27569-95c8-42ef-f3ee-80bd57089b60"
      },
      "source": [
        "gs_linear.best_params_,gs_linear.best_score_"
      ],
      "execution_count": 42,
      "outputs": [
        {
          "output_type": "execute_result",
          "data": {
            "text/plain": [
              "({'C': 100, 'kernel': 'linear'}, 0.7778260869565218)"
            ]
          },
          "metadata": {
            "tags": []
          },
          "execution_count": 42
        }
      ]
    },
    {
      "cell_type": "code",
      "metadata": {
        "colab": {
          "base_uri": "https://localhost:8080/"
        },
        "id": "WRHNCl-Ufci1",
        "outputId": "a8be7ef8-a8c7-492e-e537-3ce56c17a199"
      },
      "source": [
        "gs_linear.cv_results_,[gs_linear.best_index_]\n",
        "# ['params'],[gs_linear.best_index_]"
      ],
      "execution_count": 43,
      "outputs": [
        {
          "output_type": "execute_result",
          "data": {
            "text/plain": [
              "({'mean_fit_time': array([1.28598690e-02, 8.18987370e-02, 2.74793067e+00, 7.94936609e+00,\n",
              "         4.64310464e+01]),\n",
              "  'mean_score_time': array([0.00104709, 0.00088038, 0.00090361, 0.0010498 , 0.00091276]),\n",
              "  'mean_test_score': array([0.73031832, 0.77281056, 0.77531056, 0.77406056, 0.77782609]),\n",
              "  'param_C': masked_array(data=[0.01, 0.1, 1, 10, 100],\n",
              "               mask=[False, False, False, False, False],\n",
              "         fill_value='?',\n",
              "              dtype=object),\n",
              "  'param_kernel': masked_array(data=['linear', 'linear', 'linear', 'linear', 'linear'],\n",
              "               mask=[False, False, False, False, False],\n",
              "         fill_value='?',\n",
              "              dtype=object),\n",
              "  'params': [{'C': 0.01, 'kernel': 'linear'},\n",
              "   {'C': 0.1, 'kernel': 'linear'},\n",
              "   {'C': 1, 'kernel': 'linear'},\n",
              "   {'C': 10, 'kernel': 'linear'},\n",
              "   {'C': 100, 'kernel': 'linear'}],\n",
              "  'rank_test_score': array([5, 4, 2, 3, 1], dtype=int32),\n",
              "  'split0_test_score': array([0.74534161, 0.7515528 , 0.7515528 , 0.7515528 , 0.73913043]),\n",
              "  'split1_test_score': array([0.6875 , 0.78125, 0.79375, 0.7875 , 0.79375]),\n",
              "  'split2_test_score': array([0.7375 , 0.8    , 0.8    , 0.8    , 0.80625]),\n",
              "  'split3_test_score': array([0.73125, 0.75   , 0.75   , 0.75   , 0.75625]),\n",
              "  'split4_test_score': array([0.75   , 0.78125, 0.78125, 0.78125, 0.79375]),\n",
              "  'std_fit_time': array([2.76644889e-03, 1.79149966e-02, 3.03724824e+00, 3.89767445e+00,\n",
              "         1.20044901e+01]),\n",
              "  'std_score_time': array([2.91615666e-04, 4.46222776e-05, 2.39830604e-05, 2.15286110e-04,\n",
              "         3.29106084e-05]),\n",
              "  'std_test_score': array([0.02235585, 0.01925579, 0.02092804, 0.0199533 , 0.02560446])},\n",
              " [4])"
            ]
          },
          "metadata": {
            "tags": []
          },
          "execution_count": 43
        }
      ]
    },
    {
      "cell_type": "code",
      "metadata": {
        "id": "1RQk1dZjiZe-",
        "colab": {
          "base_uri": "https://localhost:8080/"
        },
        "outputId": "b5187c06-34d1-4aef-e9d2-76d40f4ff9d7"
      },
      "source": [
        "# Check results for SVM-Linear for best parameters\n",
        "best_linear_model = SVC(kernel= gs_linear.best_params_['kernel'],C=gs_linear.best_params_['C'])\n",
        "best_linear_model.fit(X_TRAIN,Y_TRAIN)\n",
        "\n",
        "print(\"Acc on training data:\", best_linear_model.score(X_TRAIN,Y_TRAIN))\n",
        "print(\"Acc on val data:\", best_linear_model.score(X_VAL,Y_VAL))\n",
        "# model.predict(x_test).sum()/len(x_test)"
      ],
      "execution_count": 44,
      "outputs": [
        {
          "output_type": "stream",
          "text": [
            "Acc on training data: 0.784019975031211\n",
            "Acc on val data: 0.8333333333333334\n"
          ],
          "name": "stdout"
        }
      ]
    },
    {
      "cell_type": "code",
      "metadata": {
        "id": "ZgeVf7FXhJg9"
      },
      "source": [
        "param_grid_rbf = [\n",
        "  # {'C': [1, 10, ], 'kernel': ['linear']},\n",
        "  {'C': [0.01,0.1,1, 10, 100, 1000,10000], 'gamma': [10,1,0.1,0.01, 0.001,0.0001], 'kernel': ['rbf']},\n",
        " ]\n",
        "# scores = ['precision', 'recall']"
      ],
      "execution_count": 45,
      "outputs": []
    },
    {
      "cell_type": "code",
      "metadata": {
        "id": "a1BFSEzfhb21",
        "colab": {
          "base_uri": "https://localhost:8080/"
        },
        "outputId": "c8b065f2-0d88-4cb3-dd33-8d22d450ec1c"
      },
      "source": [
        "gs_rbf = GridSearchCV(estimator=SVC(), \n",
        "                      param_grid=param_grid_rbf,\n",
        "                      verbose = 3,\n",
        "                      # scoring='%s_macro' % score,\n",
        "                      error_score=0)\n",
        "gs_rbf.fit(X_TRAIN,Y_TRAIN)\n",
        "print(\"Acc on training data:\", gs_rbf.score(X_TRAIN,Y_TRAIN))\n",
        "print(\"Acc on val data:\", gs_rbf.score(X_VAL,Y_VAL))"
      ],
      "execution_count": 46,
      "outputs": [
        {
          "output_type": "stream",
          "text": [
            "Fitting 5 folds for each of 42 candidates, totalling 210 fits\n",
            "[CV] C=0.01, gamma=10, kernel=rbf ....................................\n",
            "[CV] ........ C=0.01, gamma=10, kernel=rbf, score=0.602, total=   0.0s\n",
            "[CV] C=0.01, gamma=10, kernel=rbf ....................................\n",
            "[CV] ........ C=0.01, gamma=10, kernel=rbf, score=0.606, total=   0.0s\n",
            "[CV] C=0.01, gamma=10, kernel=rbf ....................................\n",
            "[CV] ........ C=0.01, gamma=10, kernel=rbf, score=0.606, total=   0.0s\n",
            "[CV] C=0.01, gamma=10, kernel=rbf ....................................\n",
            "[CV] ........ C=0.01, gamma=10, kernel=rbf, score=0.606, total=   0.0s\n",
            "[CV] C=0.01, gamma=10, kernel=rbf ....................................\n",
            "[CV] ........ C=0.01, gamma=10, kernel=rbf, score=0.606, total=   0.0s\n",
            "[CV] C=0.01, gamma=1, kernel=rbf .....................................\n",
            "[CV] ......... C=0.01, gamma=1, kernel=rbf, score=0.602, total=   0.0s\n",
            "[CV] C=0.01, gamma=1, kernel=rbf .....................................\n",
            "[CV] ......... C=0.01, gamma=1, kernel=rbf, score=0.606, total=   0.0s\n",
            "[CV] C=0.01, gamma=1, kernel=rbf .....................................\n",
            "[CV] ......... C=0.01, gamma=1, kernel=rbf, score=0.606, total=   0.0s\n",
            "[CV] C=0.01, gamma=1, kernel=rbf .....................................\n",
            "[CV] ......... C=0.01, gamma=1, kernel=rbf, score=0.606, total=   0.0s\n",
            "[CV] C=0.01, gamma=1, kernel=rbf .....................................\n",
            "[CV] ......... C=0.01, gamma=1, kernel=rbf, score=0.606, total=   0.0s\n",
            "[CV] C=0.01, gamma=0.1, kernel=rbf ...................................\n"
          ],
          "name": "stdout"
        },
        {
          "output_type": "stream",
          "text": [
            "[Parallel(n_jobs=1)]: Using backend SequentialBackend with 1 concurrent workers.\n",
            "[Parallel(n_jobs=1)]: Done   1 out of   1 | elapsed:    0.0s remaining:    0.0s\n",
            "[Parallel(n_jobs=1)]: Done   2 out of   2 | elapsed:    0.0s remaining:    0.0s\n"
          ],
          "name": "stderr"
        },
        {
          "output_type": "stream",
          "text": [
            "[CV] ....... C=0.01, gamma=0.1, kernel=rbf, score=0.602, total=   0.0s\n",
            "[CV] C=0.01, gamma=0.1, kernel=rbf ...................................\n",
            "[CV] ....... C=0.01, gamma=0.1, kernel=rbf, score=0.606, total=   0.0s\n",
            "[CV] C=0.01, gamma=0.1, kernel=rbf ...................................\n",
            "[CV] ....... C=0.01, gamma=0.1, kernel=rbf, score=0.606, total=   0.0s\n",
            "[CV] C=0.01, gamma=0.1, kernel=rbf ...................................\n",
            "[CV] ....... C=0.01, gamma=0.1, kernel=rbf, score=0.606, total=   0.0s\n",
            "[CV] C=0.01, gamma=0.1, kernel=rbf ...................................\n",
            "[CV] ....... C=0.01, gamma=0.1, kernel=rbf, score=0.606, total=   0.0s\n",
            "[CV] C=0.01, gamma=0.01, kernel=rbf ..................................\n",
            "[CV] ...... C=0.01, gamma=0.01, kernel=rbf, score=0.602, total=   0.0s\n",
            "[CV] C=0.01, gamma=0.01, kernel=rbf ..................................\n",
            "[CV] ...... C=0.01, gamma=0.01, kernel=rbf, score=0.606, total=   0.0s\n",
            "[CV] C=0.01, gamma=0.01, kernel=rbf ..................................\n",
            "[CV] ...... C=0.01, gamma=0.01, kernel=rbf, score=0.606, total=   0.0s\n",
            "[CV] C=0.01, gamma=0.01, kernel=rbf ..................................\n",
            "[CV] ...... C=0.01, gamma=0.01, kernel=rbf, score=0.606, total=   0.0s\n",
            "[CV] C=0.01, gamma=0.01, kernel=rbf ..................................\n",
            "[CV] ...... C=0.01, gamma=0.01, kernel=rbf, score=0.606, total=   0.0s\n",
            "[CV] C=0.01, gamma=0.001, kernel=rbf .................................\n",
            "[CV] ..... C=0.01, gamma=0.001, kernel=rbf, score=0.602, total=   0.0s\n",
            "[CV] C=0.01, gamma=0.001, kernel=rbf .................................\n",
            "[CV] ..... C=0.01, gamma=0.001, kernel=rbf, score=0.606, total=   0.0s\n",
            "[CV] C=0.01, gamma=0.001, kernel=rbf .................................\n",
            "[CV] ..... C=0.01, gamma=0.001, kernel=rbf, score=0.606, total=   0.0s\n",
            "[CV] C=0.01, gamma=0.001, kernel=rbf .................................\n",
            "[CV] ..... C=0.01, gamma=0.001, kernel=rbf, score=0.606, total=   0.0s\n",
            "[CV] C=0.01, gamma=0.001, kernel=rbf .................................\n",
            "[CV] ..... C=0.01, gamma=0.001, kernel=rbf, score=0.606, total=   0.0s\n",
            "[CV] C=0.01, gamma=0.0001, kernel=rbf ................................\n",
            "[CV] .... C=0.01, gamma=0.0001, kernel=rbf, score=0.602, total=   0.0s\n",
            "[CV] C=0.01, gamma=0.0001, kernel=rbf ................................\n",
            "[CV] .... C=0.01, gamma=0.0001, kernel=rbf, score=0.606, total=   0.0s\n",
            "[CV] C=0.01, gamma=0.0001, kernel=rbf ................................\n",
            "[CV] .... C=0.01, gamma=0.0001, kernel=rbf, score=0.606, total=   0.0s\n",
            "[CV] C=0.01, gamma=0.0001, kernel=rbf ................................\n",
            "[CV] .... C=0.01, gamma=0.0001, kernel=rbf, score=0.606, total=   0.0s\n",
            "[CV] C=0.01, gamma=0.0001, kernel=rbf ................................\n",
            "[CV] .... C=0.01, gamma=0.0001, kernel=rbf, score=0.606, total=   0.0s\n",
            "[CV] C=0.1, gamma=10, kernel=rbf .....................................\n",
            "[CV] ......... C=0.1, gamma=10, kernel=rbf, score=0.602, total=   0.0s\n",
            "[CV] C=0.1, gamma=10, kernel=rbf .....................................\n",
            "[CV] ......... C=0.1, gamma=10, kernel=rbf, score=0.606, total=   0.0s\n",
            "[CV] C=0.1, gamma=10, kernel=rbf .....................................\n",
            "[CV] ......... C=0.1, gamma=10, kernel=rbf, score=0.606, total=   0.0s\n",
            "[CV] C=0.1, gamma=10, kernel=rbf .....................................\n",
            "[CV] ......... C=0.1, gamma=10, kernel=rbf, score=0.606, total=   0.0s\n",
            "[CV] C=0.1, gamma=10, kernel=rbf .....................................\n",
            "[CV] ......... C=0.1, gamma=10, kernel=rbf, score=0.606, total=   0.0s\n",
            "[CV] C=0.1, gamma=1, kernel=rbf ......................................\n",
            "[CV] .......... C=0.1, gamma=1, kernel=rbf, score=0.602, total=   0.0s\n",
            "[CV] C=0.1, gamma=1, kernel=rbf ......................................\n",
            "[CV] .......... C=0.1, gamma=1, kernel=rbf, score=0.606, total=   0.0s\n",
            "[CV] C=0.1, gamma=1, kernel=rbf ......................................\n",
            "[CV] .......... C=0.1, gamma=1, kernel=rbf, score=0.606, total=   0.0s\n",
            "[CV] C=0.1, gamma=1, kernel=rbf ......................................\n",
            "[CV] .......... C=0.1, gamma=1, kernel=rbf, score=0.606, total=   0.0s\n",
            "[CV] C=0.1, gamma=1, kernel=rbf ......................................\n",
            "[CV] .......... C=0.1, gamma=1, kernel=rbf, score=0.606, total=   0.0s\n",
            "[CV] C=0.1, gamma=0.1, kernel=rbf ....................................\n",
            "[CV] ........ C=0.1, gamma=0.1, kernel=rbf, score=0.602, total=   0.0s\n",
            "[CV] C=0.1, gamma=0.1, kernel=rbf ....................................\n",
            "[CV] ........ C=0.1, gamma=0.1, kernel=rbf, score=0.606, total=   0.0s\n",
            "[CV] C=0.1, gamma=0.1, kernel=rbf ....................................\n",
            "[CV] ........ C=0.1, gamma=0.1, kernel=rbf, score=0.606, total=   0.0s\n",
            "[CV] C=0.1, gamma=0.1, kernel=rbf ....................................\n",
            "[CV] ........ C=0.1, gamma=0.1, kernel=rbf, score=0.606, total=   0.0s\n",
            "[CV] C=0.1, gamma=0.1, kernel=rbf ....................................\n",
            "[CV] ........ C=0.1, gamma=0.1, kernel=rbf, score=0.606, total=   0.0s\n",
            "[CV] C=0.1, gamma=0.01, kernel=rbf ...................................\n",
            "[CV] ....... C=0.1, gamma=0.01, kernel=rbf, score=0.652, total=   0.0s\n",
            "[CV] C=0.1, gamma=0.01, kernel=rbf ...................................\n",
            "[CV] ....... C=0.1, gamma=0.01, kernel=rbf, score=0.644, total=   0.0s\n",
            "[CV] C=0.1, gamma=0.01, kernel=rbf ...................................\n",
            "[CV] ....... C=0.1, gamma=0.01, kernel=rbf, score=0.681, total=   0.0s\n",
            "[CV] C=0.1, gamma=0.01, kernel=rbf ...................................\n",
            "[CV] ....... C=0.1, gamma=0.01, kernel=rbf, score=0.694, total=   0.0s\n",
            "[CV] C=0.1, gamma=0.01, kernel=rbf ...................................\n",
            "[CV] ....... C=0.1, gamma=0.01, kernel=rbf, score=0.669, total=   0.0s\n",
            "[CV] C=0.1, gamma=0.001, kernel=rbf ..................................\n",
            "[CV] ...... C=0.1, gamma=0.001, kernel=rbf, score=0.696, total=   0.0s\n",
            "[CV] C=0.1, gamma=0.001, kernel=rbf ..................................\n",
            "[CV] ...... C=0.1, gamma=0.001, kernel=rbf, score=0.669, total=   0.0s\n",
            "[CV] C=0.1, gamma=0.001, kernel=rbf ..................................\n",
            "[CV] ...... C=0.1, gamma=0.001, kernel=rbf, score=0.675, total=   0.0s\n",
            "[CV] C=0.1, gamma=0.001, kernel=rbf ..................................\n",
            "[CV] ...... C=0.1, gamma=0.001, kernel=rbf, score=0.662, total=   0.0s\n",
            "[CV] C=0.1, gamma=0.001, kernel=rbf ..................................\n",
            "[CV] ...... C=0.1, gamma=0.001, kernel=rbf, score=0.650, total=   0.0s\n",
            "[CV] C=0.1, gamma=0.0001, kernel=rbf .................................\n",
            "[CV] ..... C=0.1, gamma=0.0001, kernel=rbf, score=0.671, total=   0.0s\n",
            "[CV] C=0.1, gamma=0.0001, kernel=rbf .................................\n",
            "[CV] ..... C=0.1, gamma=0.0001, kernel=rbf, score=0.662, total=   0.0s\n",
            "[CV] C=0.1, gamma=0.0001, kernel=rbf .................................\n",
            "[CV] ..... C=0.1, gamma=0.0001, kernel=rbf, score=0.650, total=   0.0s\n",
            "[CV] C=0.1, gamma=0.0001, kernel=rbf .................................\n",
            "[CV] ..... C=0.1, gamma=0.0001, kernel=rbf, score=0.631, total=   0.0s\n",
            "[CV] C=0.1, gamma=0.0001, kernel=rbf .................................\n",
            "[CV] ..... C=0.1, gamma=0.0001, kernel=rbf, score=0.662, total=   0.0s\n",
            "[CV] C=1, gamma=10, kernel=rbf .......................................\n",
            "[CV] ........... C=1, gamma=10, kernel=rbf, score=0.621, total=   0.0s\n",
            "[CV] C=1, gamma=10, kernel=rbf .......................................\n",
            "[CV] ........... C=1, gamma=10, kernel=rbf, score=0.662, total=   0.0s\n",
            "[CV] C=1, gamma=10, kernel=rbf .......................................\n",
            "[CV] ........... C=1, gamma=10, kernel=rbf, score=0.625, total=   0.0s\n",
            "[CV] C=1, gamma=10, kernel=rbf .......................................\n",
            "[CV] ........... C=1, gamma=10, kernel=rbf, score=0.631, total=   0.0s\n",
            "[CV] C=1, gamma=10, kernel=rbf .......................................\n",
            "[CV] ........... C=1, gamma=10, kernel=rbf, score=0.631, total=   0.0s\n",
            "[CV] C=1, gamma=1, kernel=rbf ........................................\n",
            "[CV] ............ C=1, gamma=1, kernel=rbf, score=0.671, total=   0.0s\n",
            "[CV] C=1, gamma=1, kernel=rbf ........................................\n",
            "[CV] ............ C=1, gamma=1, kernel=rbf, score=0.694, total=   0.0s\n",
            "[CV] C=1, gamma=1, kernel=rbf ........................................\n",
            "[CV] ............ C=1, gamma=1, kernel=rbf, score=0.637, total=   0.0s\n",
            "[CV] C=1, gamma=1, kernel=rbf ........................................\n",
            "[CV] ............ C=1, gamma=1, kernel=rbf, score=0.669, total=   0.0s\n",
            "[CV] C=1, gamma=1, kernel=rbf ........................................\n",
            "[CV] ............ C=1, gamma=1, kernel=rbf, score=0.669, total=   0.0s\n",
            "[CV] C=1, gamma=0.1, kernel=rbf ......................................\n",
            "[CV] .......... C=1, gamma=0.1, kernel=rbf, score=0.714, total=   0.0s\n",
            "[CV] C=1, gamma=0.1, kernel=rbf ......................................\n",
            "[CV] .......... C=1, gamma=0.1, kernel=rbf, score=0.681, total=   0.0s\n",
            "[CV] C=1, gamma=0.1, kernel=rbf ......................................\n",
            "[CV] .......... C=1, gamma=0.1, kernel=rbf, score=0.694, total=   0.0s\n",
            "[CV] C=1, gamma=0.1, kernel=rbf ......................................\n",
            "[CV] .......... C=1, gamma=0.1, kernel=rbf, score=0.694, total=   0.0s\n",
            "[CV] C=1, gamma=0.1, kernel=rbf ......................................\n",
            "[CV] .......... C=1, gamma=0.1, kernel=rbf, score=0.725, total=   0.0s\n",
            "[CV] C=1, gamma=0.01, kernel=rbf .....................................\n",
            "[CV] ......... C=1, gamma=0.01, kernel=rbf, score=0.733, total=   0.0s\n",
            "[CV] C=1, gamma=0.01, kernel=rbf .....................................\n",
            "[CV] ......... C=1, gamma=0.01, kernel=rbf, score=0.675, total=   0.0s\n",
            "[CV] C=1, gamma=0.01, kernel=rbf .....................................\n",
            "[CV] ......... C=1, gamma=0.01, kernel=rbf, score=0.725, total=   0.0s\n",
            "[CV] C=1, gamma=0.01, kernel=rbf .....................................\n",
            "[CV] ......... C=1, gamma=0.01, kernel=rbf, score=0.725, total=   0.0s\n",
            "[CV] C=1, gamma=0.01, kernel=rbf .....................................\n",
            "[CV] ......... C=1, gamma=0.01, kernel=rbf, score=0.762, total=   0.0s\n",
            "[CV] C=1, gamma=0.001, kernel=rbf ....................................\n",
            "[CV] ........ C=1, gamma=0.001, kernel=rbf, score=0.714, total=   0.0s\n",
            "[CV] C=1, gamma=0.001, kernel=rbf ....................................\n",
            "[CV] ........ C=1, gamma=0.001, kernel=rbf, score=0.669, total=   0.0s\n",
            "[CV] C=1, gamma=0.001, kernel=rbf ....................................\n",
            "[CV] ........ C=1, gamma=0.001, kernel=rbf, score=0.725, total=   0.0s\n",
            "[CV] C=1, gamma=0.001, kernel=rbf ....................................\n",
            "[CV] ........ C=1, gamma=0.001, kernel=rbf, score=0.713, total=   0.0s\n",
            "[CV] C=1, gamma=0.001, kernel=rbf ....................................\n",
            "[CV] ........ C=1, gamma=0.001, kernel=rbf, score=0.688, total=   0.0s\n",
            "[CV] C=1, gamma=0.0001, kernel=rbf ...................................\n",
            "[CV] ....... C=1, gamma=0.0001, kernel=rbf, score=0.696, total=   0.0s\n",
            "[CV] C=1, gamma=0.0001, kernel=rbf ...................................\n",
            "[CV] ....... C=1, gamma=0.0001, kernel=rbf, score=0.681, total=   0.0s\n",
            "[CV] C=1, gamma=0.0001, kernel=rbf ...................................\n",
            "[CV] ....... C=1, gamma=0.0001, kernel=rbf, score=0.681, total=   0.0s\n",
            "[CV] C=1, gamma=0.0001, kernel=rbf ...................................\n",
            "[CV] ....... C=1, gamma=0.0001, kernel=rbf, score=0.637, total=   0.0s\n",
            "[CV] C=1, gamma=0.0001, kernel=rbf ...................................\n",
            "[CV] ....... C=1, gamma=0.0001, kernel=rbf, score=0.656, total=   0.0s\n",
            "[CV] C=10, gamma=10, kernel=rbf ......................................\n",
            "[CV] .......... C=10, gamma=10, kernel=rbf, score=0.621, total=   0.0s\n",
            "[CV] C=10, gamma=10, kernel=rbf ......................................\n",
            "[CV] .......... C=10, gamma=10, kernel=rbf, score=0.662, total=   0.0s\n",
            "[CV] C=10, gamma=10, kernel=rbf ......................................\n",
            "[CV] .......... C=10, gamma=10, kernel=rbf, score=0.625, total=   0.0s\n",
            "[CV] C=10, gamma=10, kernel=rbf ......................................\n",
            "[CV] .......... C=10, gamma=10, kernel=rbf, score=0.619, total=   0.0s\n",
            "[CV] C=10, gamma=10, kernel=rbf ......................................\n",
            "[CV] .......... C=10, gamma=10, kernel=rbf, score=0.631, total=   0.0s\n",
            "[CV] C=10, gamma=1, kernel=rbf .......................................\n",
            "[CV] ........... C=10, gamma=1, kernel=rbf, score=0.658, total=   0.0s\n",
            "[CV] C=10, gamma=1, kernel=rbf .......................................\n",
            "[CV] ........... C=10, gamma=1, kernel=rbf, score=0.694, total=   0.0s\n",
            "[CV] C=10, gamma=1, kernel=rbf .......................................\n",
            "[CV] ........... C=10, gamma=1, kernel=rbf, score=0.619, total=   0.0s\n",
            "[CV] C=10, gamma=1, kernel=rbf .......................................\n",
            "[CV] ........... C=10, gamma=1, kernel=rbf, score=0.644, total=   0.0s\n",
            "[CV] C=10, gamma=1, kernel=rbf .......................................\n",
            "[CV] ........... C=10, gamma=1, kernel=rbf, score=0.650, total=   0.0s\n",
            "[CV] C=10, gamma=0.1, kernel=rbf .....................................\n",
            "[CV] ......... C=10, gamma=0.1, kernel=rbf, score=0.702, total=   0.0s\n",
            "[CV] C=10, gamma=0.1, kernel=rbf .....................................\n",
            "[CV] ......... C=10, gamma=0.1, kernel=rbf, score=0.713, total=   0.0s\n",
            "[CV] C=10, gamma=0.1, kernel=rbf .....................................\n",
            "[CV] ......... C=10, gamma=0.1, kernel=rbf, score=0.637, total=   0.0s\n",
            "[CV] C=10, gamma=0.1, kernel=rbf .....................................\n",
            "[CV] ......... C=10, gamma=0.1, kernel=rbf, score=0.706, total=   0.0s\n",
            "[CV] C=10, gamma=0.1, kernel=rbf .....................................\n",
            "[CV] ......... C=10, gamma=0.1, kernel=rbf, score=0.738, total=   0.0s\n",
            "[CV] C=10, gamma=0.01, kernel=rbf ....................................\n",
            "[CV] ........ C=10, gamma=0.01, kernel=rbf, score=0.764, total=   0.0s\n",
            "[CV] C=10, gamma=0.01, kernel=rbf ....................................\n",
            "[CV] ........ C=10, gamma=0.01, kernel=rbf, score=0.756, total=   0.0s\n",
            "[CV] C=10, gamma=0.01, kernel=rbf ....................................\n",
            "[CV] ........ C=10, gamma=0.01, kernel=rbf, score=0.750, total=   0.0s\n",
            "[CV] C=10, gamma=0.01, kernel=rbf ....................................\n",
            "[CV] ........ C=10, gamma=0.01, kernel=rbf, score=0.750, total=   0.0s\n",
            "[CV] C=10, gamma=0.01, kernel=rbf ....................................\n",
            "[CV] ........ C=10, gamma=0.01, kernel=rbf, score=0.762, total=   0.0s\n",
            "[CV] C=10, gamma=0.001, kernel=rbf ...................................\n",
            "[CV] ....... C=10, gamma=0.001, kernel=rbf, score=0.733, total=   0.0s\n",
            "[CV] C=10, gamma=0.001, kernel=rbf ...................................\n",
            "[CV] ....... C=10, gamma=0.001, kernel=rbf, score=0.694, total=   0.0s\n",
            "[CV] C=10, gamma=0.001, kernel=rbf ...................................\n",
            "[CV] ....... C=10, gamma=0.001, kernel=rbf, score=0.731, total=   0.0s\n",
            "[CV] C=10, gamma=0.001, kernel=rbf ...................................\n",
            "[CV] ....... C=10, gamma=0.001, kernel=rbf, score=0.756, total=   0.0s\n",
            "[CV] C=10, gamma=0.001, kernel=rbf ...................................\n",
            "[CV] ....... C=10, gamma=0.001, kernel=rbf, score=0.750, total=   0.0s\n",
            "[CV] C=10, gamma=0.0001, kernel=rbf ..................................\n",
            "[CV] ...... C=10, gamma=0.0001, kernel=rbf, score=0.702, total=   0.0s\n",
            "[CV] C=10, gamma=0.0001, kernel=rbf ..................................\n",
            "[CV] ...... C=10, gamma=0.0001, kernel=rbf, score=0.681, total=   0.0s\n",
            "[CV] C=10, gamma=0.0001, kernel=rbf ..................................\n",
            "[CV] ...... C=10, gamma=0.0001, kernel=rbf, score=0.725, total=   0.0s\n",
            "[CV] C=10, gamma=0.0001, kernel=rbf ..................................\n",
            "[CV] ...... C=10, gamma=0.0001, kernel=rbf, score=0.675, total=   0.0s\n",
            "[CV] C=10, gamma=0.0001, kernel=rbf ..................................\n",
            "[CV] ...... C=10, gamma=0.0001, kernel=rbf, score=0.719, total=   0.0s\n",
            "[CV] C=100, gamma=10, kernel=rbf .....................................\n",
            "[CV] ......... C=100, gamma=10, kernel=rbf, score=0.615, total=   0.0s\n",
            "[CV] C=100, gamma=10, kernel=rbf .....................................\n",
            "[CV] ......... C=100, gamma=10, kernel=rbf, score=0.662, total=   0.0s\n",
            "[CV] C=100, gamma=10, kernel=rbf .....................................\n",
            "[CV] ......... C=100, gamma=10, kernel=rbf, score=0.625, total=   0.0s\n",
            "[CV] C=100, gamma=10, kernel=rbf .....................................\n",
            "[CV] ......... C=100, gamma=10, kernel=rbf, score=0.613, total=   0.0s\n",
            "[CV] C=100, gamma=10, kernel=rbf .....................................\n",
            "[CV] ......... C=100, gamma=10, kernel=rbf, score=0.631, total=   0.0s\n",
            "[CV] C=100, gamma=1, kernel=rbf ......................................\n",
            "[CV] .......... C=100, gamma=1, kernel=rbf, score=0.658, total=   0.0s\n",
            "[CV] C=100, gamma=1, kernel=rbf ......................................\n",
            "[CV] .......... C=100, gamma=1, kernel=rbf, score=0.688, total=   0.0s\n",
            "[CV] C=100, gamma=1, kernel=rbf ......................................\n",
            "[CV] .......... C=100, gamma=1, kernel=rbf, score=0.625, total=   0.0s\n",
            "[CV] C=100, gamma=1, kernel=rbf ......................................\n",
            "[CV] .......... C=100, gamma=1, kernel=rbf, score=0.625, total=   0.0s\n",
            "[CV] C=100, gamma=1, kernel=rbf ......................................\n",
            "[CV] .......... C=100, gamma=1, kernel=rbf, score=0.656, total=   0.0s\n",
            "[CV] C=100, gamma=0.1, kernel=rbf ....................................\n",
            "[CV] ........ C=100, gamma=0.1, kernel=rbf, score=0.702, total=   0.0s\n",
            "[CV] C=100, gamma=0.1, kernel=rbf ....................................\n",
            "[CV] ........ C=100, gamma=0.1, kernel=rbf, score=0.694, total=   0.0s\n",
            "[CV] C=100, gamma=0.1, kernel=rbf ....................................\n",
            "[CV] ........ C=100, gamma=0.1, kernel=rbf, score=0.606, total=   0.0s\n",
            "[CV] C=100, gamma=0.1, kernel=rbf ....................................\n",
            "[CV] ........ C=100, gamma=0.1, kernel=rbf, score=0.688, total=   0.0s\n",
            "[CV] C=100, gamma=0.1, kernel=rbf ....................................\n",
            "[CV] ........ C=100, gamma=0.1, kernel=rbf, score=0.750, total=   0.0s\n",
            "[CV] C=100, gamma=0.01, kernel=rbf ...................................\n",
            "[CV] ....... C=100, gamma=0.01, kernel=rbf, score=0.764, total=   0.0s\n",
            "[CV] C=100, gamma=0.01, kernel=rbf ...................................\n",
            "[CV] ....... C=100, gamma=0.01, kernel=rbf, score=0.750, total=   0.0s\n",
            "[CV] C=100, gamma=0.01, kernel=rbf ...................................\n",
            "[CV] ....... C=100, gamma=0.01, kernel=rbf, score=0.731, total=   0.0s\n",
            "[CV] C=100, gamma=0.01, kernel=rbf ...................................\n",
            "[CV] ....... C=100, gamma=0.01, kernel=rbf, score=0.750, total=   0.0s\n",
            "[CV] C=100, gamma=0.01, kernel=rbf ...................................\n",
            "[CV] ....... C=100, gamma=0.01, kernel=rbf, score=0.769, total=   0.0s\n",
            "[CV] C=100, gamma=0.001, kernel=rbf ..................................\n",
            "[CV] ...... C=100, gamma=0.001, kernel=rbf, score=0.783, total=   0.0s\n",
            "[CV] C=100, gamma=0.001, kernel=rbf ..................................\n",
            "[CV] ...... C=100, gamma=0.001, kernel=rbf, score=0.781, total=   0.0s\n",
            "[CV] C=100, gamma=0.001, kernel=rbf ..................................\n",
            "[CV] ...... C=100, gamma=0.001, kernel=rbf, score=0.794, total=   0.0s\n",
            "[CV] C=100, gamma=0.001, kernel=rbf ..................................\n",
            "[CV] ...... C=100, gamma=0.001, kernel=rbf, score=0.812, total=   0.0s\n",
            "[CV] C=100, gamma=0.001, kernel=rbf ..................................\n",
            "[CV] ...... C=100, gamma=0.001, kernel=rbf, score=0.794, total=   0.0s\n",
            "[CV] C=100, gamma=0.0001, kernel=rbf .................................\n",
            "[CV] ..... C=100, gamma=0.0001, kernel=rbf, score=0.795, total=   0.0s\n",
            "[CV] C=100, gamma=0.0001, kernel=rbf .................................\n",
            "[CV] ..... C=100, gamma=0.0001, kernel=rbf, score=0.681, total=   0.0s\n",
            "[CV] C=100, gamma=0.0001, kernel=rbf .................................\n",
            "[CV] ..... C=100, gamma=0.0001, kernel=rbf, score=0.775, total=   0.0s\n",
            "[CV] C=100, gamma=0.0001, kernel=rbf .................................\n",
            "[CV] ..... C=100, gamma=0.0001, kernel=rbf, score=0.794, total=   0.0s\n",
            "[CV] C=100, gamma=0.0001, kernel=rbf .................................\n",
            "[CV] ..... C=100, gamma=0.0001, kernel=rbf, score=0.787, total=   0.0s\n",
            "[CV] C=1000, gamma=10, kernel=rbf ....................................\n",
            "[CV] ........ C=1000, gamma=10, kernel=rbf, score=0.615, total=   0.0s\n",
            "[CV] C=1000, gamma=10, kernel=rbf ....................................\n",
            "[CV] ........ C=1000, gamma=10, kernel=rbf, score=0.662, total=   0.0s\n",
            "[CV] C=1000, gamma=10, kernel=rbf ....................................\n",
            "[CV] ........ C=1000, gamma=10, kernel=rbf, score=0.619, total=   0.0s\n",
            "[CV] C=1000, gamma=10, kernel=rbf ....................................\n",
            "[CV] ........ C=1000, gamma=10, kernel=rbf, score=0.613, total=   0.0s\n",
            "[CV] C=1000, gamma=10, kernel=rbf ....................................\n",
            "[CV] ........ C=1000, gamma=10, kernel=rbf, score=0.631, total=   0.0s\n",
            "[CV] C=1000, gamma=1, kernel=rbf .....................................\n",
            "[CV] ......... C=1000, gamma=1, kernel=rbf, score=0.658, total=   0.0s\n",
            "[CV] C=1000, gamma=1, kernel=rbf .....................................\n",
            "[CV] ......... C=1000, gamma=1, kernel=rbf, score=0.700, total=   0.0s\n",
            "[CV] C=1000, gamma=1, kernel=rbf .....................................\n",
            "[CV] ......... C=1000, gamma=1, kernel=rbf, score=0.637, total=   0.0s\n",
            "[CV] C=1000, gamma=1, kernel=rbf .....................................\n",
            "[CV] ......... C=1000, gamma=1, kernel=rbf, score=0.625, total=   0.0s\n",
            "[CV] C=1000, gamma=1, kernel=rbf .....................................\n",
            "[CV] ......... C=1000, gamma=1, kernel=rbf, score=0.656, total=   0.0s\n",
            "[CV] C=1000, gamma=0.1, kernel=rbf ...................................\n",
            "[CV] ....... C=1000, gamma=0.1, kernel=rbf, score=0.708, total=   0.0s\n",
            "[CV] C=1000, gamma=0.1, kernel=rbf ...................................\n",
            "[CV] ....... C=1000, gamma=0.1, kernel=rbf, score=0.669, total=   0.1s\n",
            "[CV] C=1000, gamma=0.1, kernel=rbf ...................................\n",
            "[CV] ....... C=1000, gamma=0.1, kernel=rbf, score=0.588, total=   0.0s\n",
            "[CV] C=1000, gamma=0.1, kernel=rbf ...................................\n",
            "[CV] ....... C=1000, gamma=0.1, kernel=rbf, score=0.625, total=   0.0s\n",
            "[CV] C=1000, gamma=0.1, kernel=rbf ...................................\n",
            "[CV] ....... C=1000, gamma=0.1, kernel=rbf, score=0.719, total=   0.0s\n",
            "[CV] C=1000, gamma=0.01, kernel=rbf ..................................\n",
            "[CV] ...... C=1000, gamma=0.01, kernel=rbf, score=0.727, total=   0.1s\n",
            "[CV] C=1000, gamma=0.01, kernel=rbf ..................................\n",
            "[CV] ...... C=1000, gamma=0.01, kernel=rbf, score=0.738, total=   0.1s\n",
            "[CV] C=1000, gamma=0.01, kernel=rbf ..................................\n",
            "[CV] ...... C=1000, gamma=0.01, kernel=rbf, score=0.706, total=   0.1s\n",
            "[CV] C=1000, gamma=0.01, kernel=rbf ..................................\n",
            "[CV] ...... C=1000, gamma=0.01, kernel=rbf, score=0.750, total=   0.2s\n",
            "[CV] C=1000, gamma=0.01, kernel=rbf ..................................\n",
            "[CV] ...... C=1000, gamma=0.01, kernel=rbf, score=0.762, total=   0.1s\n",
            "[CV] C=1000, gamma=0.001, kernel=rbf .................................\n",
            "[CV] ..... C=1000, gamma=0.001, kernel=rbf, score=0.776, total=   0.1s\n",
            "[CV] C=1000, gamma=0.001, kernel=rbf .................................\n",
            "[CV] ..... C=1000, gamma=0.001, kernel=rbf, score=0.812, total=   0.1s\n",
            "[CV] C=1000, gamma=0.001, kernel=rbf .................................\n",
            "[CV] ..... C=1000, gamma=0.001, kernel=rbf, score=0.806, total=   0.1s\n",
            "[CV] C=1000, gamma=0.001, kernel=rbf .................................\n",
            "[CV] ..... C=1000, gamma=0.001, kernel=rbf, score=0.800, total=   0.2s\n",
            "[CV] C=1000, gamma=0.001, kernel=rbf .................................\n",
            "[CV] ..... C=1000, gamma=0.001, kernel=rbf, score=0.794, total=   0.1s\n",
            "[CV] C=1000, gamma=0.0001, kernel=rbf ................................\n",
            "[CV] .... C=1000, gamma=0.0001, kernel=rbf, score=0.733, total=   0.1s\n",
            "[CV] C=1000, gamma=0.0001, kernel=rbf ................................\n",
            "[CV] .... C=1000, gamma=0.0001, kernel=rbf, score=0.787, total=   0.1s\n",
            "[CV] C=1000, gamma=0.0001, kernel=rbf ................................\n",
            "[CV] .... C=1000, gamma=0.0001, kernel=rbf, score=0.806, total=   0.1s\n",
            "[CV] C=1000, gamma=0.0001, kernel=rbf ................................\n",
            "[CV] .... C=1000, gamma=0.0001, kernel=rbf, score=0.781, total=   0.1s\n",
            "[CV] C=1000, gamma=0.0001, kernel=rbf ................................\n",
            "[CV] .... C=1000, gamma=0.0001, kernel=rbf, score=0.794, total=   0.1s\n",
            "[CV] C=10000, gamma=10, kernel=rbf ...................................\n",
            "[CV] ....... C=10000, gamma=10, kernel=rbf, score=0.609, total=   0.0s\n",
            "[CV] C=10000, gamma=10, kernel=rbf ...................................\n",
            "[CV] ....... C=10000, gamma=10, kernel=rbf, score=0.662, total=   0.0s\n",
            "[CV] C=10000, gamma=10, kernel=rbf ...................................\n",
            "[CV] ....... C=10000, gamma=10, kernel=rbf, score=0.619, total=   0.1s\n",
            "[CV] C=10000, gamma=10, kernel=rbf ...................................\n",
            "[CV] ....... C=10000, gamma=10, kernel=rbf, score=0.613, total=   0.0s\n",
            "[CV] C=10000, gamma=10, kernel=rbf ...................................\n",
            "[CV] ....... C=10000, gamma=10, kernel=rbf, score=0.631, total=   0.0s\n",
            "[CV] C=10000, gamma=1, kernel=rbf ....................................\n",
            "[CV] ........ C=10000, gamma=1, kernel=rbf, score=0.646, total=   0.0s\n",
            "[CV] C=10000, gamma=1, kernel=rbf ....................................\n",
            "[CV] ........ C=10000, gamma=1, kernel=rbf, score=0.694, total=   0.0s\n",
            "[CV] C=10000, gamma=1, kernel=rbf ....................................\n",
            "[CV] ........ C=10000, gamma=1, kernel=rbf, score=0.644, total=   0.0s\n",
            "[CV] C=10000, gamma=1, kernel=rbf ....................................\n",
            "[CV] ........ C=10000, gamma=1, kernel=rbf, score=0.594, total=   0.0s\n",
            "[CV] C=10000, gamma=1, kernel=rbf ....................................\n",
            "[CV] ........ C=10000, gamma=1, kernel=rbf, score=0.656, total=   0.0s\n",
            "[CV] C=10000, gamma=0.1, kernel=rbf ..................................\n",
            "[CV] ...... C=10000, gamma=0.1, kernel=rbf, score=0.689, total=   0.2s\n",
            "[CV] C=10000, gamma=0.1, kernel=rbf ..................................\n",
            "[CV] ...... C=10000, gamma=0.1, kernel=rbf, score=0.662, total=   0.2s\n",
            "[CV] C=10000, gamma=0.1, kernel=rbf ..................................\n",
            "[CV] ...... C=10000, gamma=0.1, kernel=rbf, score=0.650, total=   0.1s\n",
            "[CV] C=10000, gamma=0.1, kernel=rbf ..................................\n",
            "[CV] ...... C=10000, gamma=0.1, kernel=rbf, score=0.594, total=   0.2s\n",
            "[CV] C=10000, gamma=0.1, kernel=rbf ..................................\n",
            "[CV] ...... C=10000, gamma=0.1, kernel=rbf, score=0.706, total=   0.3s\n",
            "[CV] C=10000, gamma=0.01, kernel=rbf .................................\n",
            "[CV] ..... C=10000, gamma=0.01, kernel=rbf, score=0.745, total=   0.4s\n",
            "[CV] C=10000, gamma=0.01, kernel=rbf .................................\n",
            "[CV] ..... C=10000, gamma=0.01, kernel=rbf, score=0.688, total=   0.7s\n",
            "[CV] C=10000, gamma=0.01, kernel=rbf .................................\n",
            "[CV] ..... C=10000, gamma=0.01, kernel=rbf, score=0.694, total=   1.0s\n",
            "[CV] C=10000, gamma=0.01, kernel=rbf .................................\n",
            "[CV] ..... C=10000, gamma=0.01, kernel=rbf, score=0.738, total=   1.3s\n",
            "[CV] C=10000, gamma=0.01, kernel=rbf .................................\n",
            "[CV] ..... C=10000, gamma=0.01, kernel=rbf, score=0.750, total=   0.5s\n",
            "[CV] C=10000, gamma=0.001, kernel=rbf ................................\n",
            "[CV] .... C=10000, gamma=0.001, kernel=rbf, score=0.764, total=   0.9s\n",
            "[CV] C=10000, gamma=0.001, kernel=rbf ................................\n",
            "[CV] .... C=10000, gamma=0.001, kernel=rbf, score=0.806, total=   0.8s\n",
            "[CV] C=10000, gamma=0.001, kernel=rbf ................................\n",
            "[CV] .... C=10000, gamma=0.001, kernel=rbf, score=0.756, total=   0.9s\n",
            "[CV] C=10000, gamma=0.001, kernel=rbf ................................\n",
            "[CV] .... C=10000, gamma=0.001, kernel=rbf, score=0.800, total=   0.8s\n",
            "[CV] C=10000, gamma=0.001, kernel=rbf ................................\n",
            "[CV] .... C=10000, gamma=0.001, kernel=rbf, score=0.775, total=   0.6s\n",
            "[CV] C=10000, gamma=0.0001, kernel=rbf ...............................\n",
            "[CV] ... C=10000, gamma=0.0001, kernel=rbf, score=0.739, total=   0.4s\n",
            "[CV] C=10000, gamma=0.0001, kernel=rbf ...............................\n",
            "[CV] ... C=10000, gamma=0.0001, kernel=rbf, score=0.775, total=   0.2s\n",
            "[CV] C=10000, gamma=0.0001, kernel=rbf ...............................\n",
            "[CV] ... C=10000, gamma=0.0001, kernel=rbf, score=0.819, total=   0.2s\n",
            "[CV] C=10000, gamma=0.0001, kernel=rbf ...............................\n",
            "[CV] ... C=10000, gamma=0.0001, kernel=rbf, score=0.812, total=   0.5s\n",
            "[CV] C=10000, gamma=0.0001, kernel=rbf ...............................\n",
            "[CV] ... C=10000, gamma=0.0001, kernel=rbf, score=0.806, total=   0.4s\n",
            "Acc on training data: 0.8714107365792759\n",
            "Acc on val data: 0.8222222222222222\n"
          ],
          "name": "stdout"
        },
        {
          "output_type": "stream",
          "text": [
            "[Parallel(n_jobs=1)]: Done 210 out of 210 | elapsed:   16.0s finished\n"
          ],
          "name": "stderr"
        }
      ]
    },
    {
      "cell_type": "code",
      "metadata": {
        "id": "5OGDGGRJhqyj",
        "colab": {
          "base_uri": "https://localhost:8080/"
        },
        "outputId": "efc6cf52-7d85-4d4d-b38b-2e83a1e7420e"
      },
      "source": [
        "gs_rbf.best_params_,gs_rbf.best_score_"
      ],
      "execution_count": 47,
      "outputs": [
        {
          "output_type": "execute_result",
          "data": {
            "text/plain": [
              "({'C': 1000, 'gamma': 0.001, 'kernel': 'rbf'}, 0.7977795031055901)"
            ]
          },
          "metadata": {
            "tags": []
          },
          "execution_count": 47
        }
      ]
    },
    {
      "cell_type": "code",
      "metadata": {
        "colab": {
          "base_uri": "https://localhost:8080/"
        },
        "id": "vNQ4HaWsgcxJ",
        "outputId": "fca610de-1d24-4d70-b06e-5d78dc6c454b"
      },
      "source": [
        "# Check results for SVM-RBF for best parameters\n",
        "\n",
        "best_rbf_model = SVC(kernel=gs_rbf.best_params_['kernel'], C=gs_rbf.best_params_['C'], gamma= gs_rbf.best_params_['gamma'])\n",
        "best_rbf_model.fit(X_TRAIN,Y_TRAIN)\n",
        "\n",
        "print(\"Acc on training data:\", best_rbf_model.score(X_TRAIN,Y_TRAIN))\n",
        "print(\"Acc on val data:\", best_rbf_model.score(X_VAL,Y_VAL))\n",
        "# model.predict(x_test).sum()/len(x_test)"
      ],
      "execution_count": 48,
      "outputs": [
        {
          "output_type": "stream",
          "text": [
            "Acc on training data: 0.8714107365792759\n",
            "Acc on val data: 0.8222222222222222\n"
          ],
          "name": "stdout"
        }
      ]
    },
    {
      "cell_type": "markdown",
      "metadata": {
        "id": "nxWqtFwwcjDI"
      },
      "source": [
        "### Test Data"
      ]
    },
    {
      "cell_type": "code",
      "metadata": {
        "id": "vxf_qg0UQBS2"
      },
      "source": [
        "gender_map = {'male' : 0, 'female' : 1}\n",
        "cabin_map = { 'U':0, 'A':1, 'B':2, 'C':3, 'D':4, 'E':5, 'F':6, 'G':7, 'T':8}\n",
        "embarked_map = {'S' : 0, 'C' : 1, 'Q':2}\n",
        "test_data['Sex'] = test_data['Sex'].map(gender_map)\n",
        "test_data['Cabin'] = test_data['Cabin'].map(cabin_map)\n",
        "test_data['Embarked'] = test_data['Embarked'].map(embarked_map)\n",
        "\n",
        "x_test = test_data.drop(columns= ['Name','Ticket','PassengerId']).to_numpy()"
      ],
      "execution_count": 49,
      "outputs": []
    },
    {
      "cell_type": "code",
      "metadata": {
        "id": "V3SjT9lQRskD"
      },
      "source": [
        "SVM_linear = pd.DataFrame(best_linear_model.predict(x_test))\n",
        "SVM_linear.to_csv('Predictions/SVM_linear.csv', index = False)"
      ],
      "execution_count": 51,
      "outputs": []
    },
    {
      "cell_type": "code",
      "metadata": {
        "id": "3jo672h-dBqk"
      },
      "source": [
        "SVM_rbf = pd.DataFrame(best_rbf_model.predict(x_test))\n",
        "SVM_rbf.to_csv('Predictions/SVM_rbf.csv', index = False)"
      ],
      "execution_count": 52,
      "outputs": []
    },
    {
      "cell_type": "code",
      "metadata": {
        "colab": {
          "base_uri": "https://localhost:8080/"
        },
        "id": "bi26KnSygbcx",
        "outputId": "e102d001-e892-4b59-cc9d-d07237415638"
      },
      "source": [
        "(best_linear_model.predict(x_test) - best_rbf_model.predict(x_test)).sum()"
      ],
      "execution_count": 53,
      "outputs": [
        {
          "output_type": "execute_result",
          "data": {
            "text/plain": [
              "-28.0"
            ]
          },
          "metadata": {
            "tags": []
          },
          "execution_count": 53
        }
      ]
    },
    {
      "cell_type": "code",
      "metadata": {
        "id": "LieFa_4gAIHW"
      },
      "source": [
        "with ZipFile('Prediction.zip', 'w') as zipObj2:\n",
        "   # Add multiple files to the zip\n",
        "   zipObj2.write('Predictions/SVM_linear.csv')\n",
        "   zipObj2.write('Predictions/SVM_rbf.csv')"
      ],
      "execution_count": 54,
      "outputs": []
    }
  ]
}